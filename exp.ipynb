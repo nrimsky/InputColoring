{
 "cells": [
  {
   "cell_type": "code",
   "execution_count": 40,
   "metadata": {},
   "outputs": [],
   "source": [
    "from transformers import AutoTokenizer, AutoModelForCausalLM\n",
    "import torch\n",
    "import os\n",
    "from dotenv import load_dotenv\n",
    "import torch.nn.functional as F\n",
    "from IPython.display import display, HTML\n",
    "import matplotlib.pyplot as plt\n",
    "import matplotlib.colors as mcolors\n",
    "import numpy as np\n",
    "from transformers.models.llama import LlamaForCausalLM\n",
    "from transformers import BitsAndBytesConfig\n",
    "import html\n",
    "import json\n",
    "import random\n",
    "from model_wrapper import ModelWrapper, InterventionSettings, Intervention\n",
    "from utils import format_conversation\n",
    "from viz import visualize_token_nlls\n",
    "from collections import defaultdict\n",
    "from tqdm import tqdm"
   ]
  },
  {
   "cell_type": "code",
   "execution_count": 3,
   "metadata": {},
   "outputs": [],
   "source": [
    "load_dotenv()\n",
    "\n",
    "HUGGINGFACE_TOKEN = os.getenv(\"HF_TOKEN\")"
   ]
  },
  {
   "cell_type": "code",
   "execution_count": 4,
   "metadata": {},
   "outputs": [],
   "source": [
    "MODEL_LLAMA_3_CHAT = \"meta-llama/Meta-Llama-3.1-8B-Instruct\""
   ]
  },
  {
   "cell_type": "code",
   "execution_count": 5,
   "metadata": {},
   "outputs": [],
   "source": [
    "tokenizer = AutoTokenizer.from_pretrained(\n",
    "    MODEL_LLAMA_3_CHAT, token=HUGGINGFACE_TOKEN\n",
    ")"
   ]
  },
  {
   "cell_type": "code",
   "execution_count": 6,
   "metadata": {},
   "outputs": [],
   "source": [
    "tokenizer.pad_token_id = tokenizer.eos_token_id"
   ]
  },
  {
   "cell_type": "code",
   "execution_count": 7,
   "metadata": {},
   "outputs": [
    {
     "name": "stderr",
     "output_type": "stream",
     "text": [
      "Loading checkpoint shards: 100%|██████████| 4/4 [00:03<00:00,  1.19it/s]\n"
     ]
    }
   ],
   "source": [
    "model = ModelWrapper()"
   ]
  },
  {
   "cell_type": "code",
   "execution_count": 8,
   "metadata": {},
   "outputs": [],
   "source": [
    "model.reset_hooks()"
   ]
  },
  {
   "cell_type": "code",
   "execution_count": 9,
   "metadata": {},
   "outputs": [],
   "source": [
    "messages = [\n",
    "    {\"role\": \"user\", \"content\": \"What is the capital of France?\"},\n",
    "    {\"role\": \"assistant\", \"content\": \"Paris.\"},\n",
    "    {\"role\": \"user\", \"content\": \"What do people like to eat there?\"},\n",
    "    {\"role\": \"assistant\", \"content\": \"People in Paris like to eat croissants and baguettes.\"},\n",
    "    {\"role\": \"user\", \"content\": \"That's interesting. What about the weather? What is it like in the summer?\"},\n",
    "]"
   ]
  },
  {
   "cell_type": "code",
   "execution_count": 10,
   "metadata": {},
   "outputs": [],
   "source": [
    "messages_formatted = format_conversation(messages, tokenizer, add_generation_prompt=True)"
   ]
  },
  {
   "cell_type": "code",
   "execution_count": 11,
   "metadata": {},
   "outputs": [
    {
     "name": "stdout",
     "output_type": "stream",
     "text": [
      "<|start_header_id|>user<|end_header_id|>\n",
      "\n",
      "What is the capital of France?<|eot_id|><|start_header_id|>assistant<|end_header_id|>\n",
      "\n",
      "Paris.<|eot_id|><|start_header_id|>user<|end_header_id|>\n",
      "\n",
      "What do people like to eat there?<|eot_id|><|start_header_id|>assistant<|end_header_id|>\n",
      "\n",
      "People in Paris like to eat croissants and baguettes.<|eot_id|><|start_header_id|>user<|end_header_id|>\n",
      "\n",
      "That's interesting. What about the weather? What is it like in the summer?<|eot_id|><|start_header_id|>assistant<|end_header_id|>\n",
      "\n",
      "\n"
     ]
    }
   ],
   "source": [
    "print(messages_formatted)"
   ]
  },
  {
   "cell_type": "code",
   "execution_count": 12,
   "metadata": {},
   "outputs": [],
   "source": [
    "tokens = tokenizer.encode(messages_formatted, return_tensors=\"pt\")"
   ]
  },
  {
   "cell_type": "code",
   "execution_count": 13,
   "metadata": {},
   "outputs": [
    {
     "name": "stdout",
     "output_type": "stream",
     "text": [
      "<|begin_of_text|><|start_header_id|>user<|end_header_id|>\n",
      "\n",
      "What is the capital of France?<|eot_id|><|start_header_id|>assistant<|end_header_id|>\n",
      "\n",
      "Paris.<|eot_id|><|start_header_id|>user<|end_header_id|>\n",
      "\n",
      "What do people like to eat there?<|eot_id|><|start_header_id|>assistant<|end_header_id|>\n",
      "\n",
      "People in Paris like to eat croissants and baguettes.<|eot_id|><|start_header_id|>user<|end_header_id|>\n",
      "\n",
      "That's interesting. What about the weather? What is it like in the summer?<|eot_id|><|start_header_id|>assistant<|end_header_id|>\n",
      "\n",
      "\n"
     ]
    }
   ],
   "source": [
    "print(tokenizer.decode(tokens[0]))"
   ]
  },
  {
   "cell_type": "code",
   "execution_count": 14,
   "metadata": {},
   "outputs": [],
   "source": [
    "per_token_nlls = model.get_per_token_nlls(tokens)"
   ]
  },
  {
   "cell_type": "code",
   "execution_count": 15,
   "metadata": {},
   "outputs": [
    {
     "data": {
      "text/html": [
       "\n",
       "    <div style='margin-bottom: 10px'>\n",
       "        <span style='font-size: 0.9em'>NLL Range: </span>\n",
       "        <span style='padding: 2px 8px; background-color: #313695; color: white'>Low -0.00</span>\n",
       "        <span style='padding: 2px 8px; background-color: #fffebe'>Med 5.89</span>\n",
       "        <span style='padding: 2px 8px; background-color: #a50026; color: white'>High 11.79</span>\n",
       "    </div>\n",
       "    <span style='padding: 2px 4px; margin: 0 1px; border: 1px dashed #ccc'>128000</span><span style='padding: 2px 4px; margin: 2px; display: inline-block; background-color: #b4deec; color: black' title='NLL: 3.734'>&lt;|start_header_id|&gt;</span><span style='padding: 2px 4px; margin: 2px; display: inline-block; background-color: #a50026; color: white' title='NLL: 15.188'>user</span><span style='padding: 2px 4px; margin: 2px; display: inline-block; background-color: #3e5ea8; color: white' title='NLL: 0.758'>&lt;|end_header_id|&gt;</span><span style='padding: 2px 4px; margin: 2px; display: inline-block; background-color: #a50026; color: white' title='NLL: 20.000'>\n",
       "\n",
       "</span><span style='padding: 2px 4px; margin: 2px; display: inline-block; background-color: #9bcce2; color: black' title='NLL: 3.219'>What</span><span style='padding: 2px 4px; margin: 2px; display: inline-block; background-color: #3a51a2; color: white' title='NLL: 0.523'> is</span><span style='padding: 2px 4px; margin: 2px; display: inline-block; background-color: #35429b; color: white' title='NLL: 0.266'> the</span><span style='padding: 2px 4px; margin: 2px; display: inline-block; background-color: #fffdbc; color: black' title='NLL: 5.969'> capital</span><span style='padding: 2px 4px; margin: 2px; display: inline-block; background-color: #323896; color: white' title='NLL: 0.081'> of</span><span style='padding: 2px 4px; margin: 2px; display: inline-block; background-color: #659bc8; color: black' title='NLL: 2.016'> France</span><span style='padding: 2px 4px; margin: 2px; display: inline-block; background-color: #4878b6; color: white' title='NLL: 1.281'>?</span><span style='padding: 2px 4px; margin: 2px; display: inline-block; background-color: #333d99; color: white' title='NLL: 0.166'>&lt;|eot_id|&gt;</span><span style='padding: 2px 4px; margin: 2px; display: inline-block; background-color: #313695; color: white' title='NLL: -0.000'>&lt;|start_header_id|&gt;</span><span style='padding: 2px 4px; margin: 2px; display: inline-block; background-color: #313695; color: white' title='NLL: -0.000'>assistant</span><span style='padding: 2px 4px; margin: 2px; display: inline-block; background-color: #313695; color: white' title='NLL: -0.000'>&lt;|end_header_id|&gt;</span><span style='padding: 2px 4px; margin: 2px; display: inline-block; background-color: #313695; color: white' title='NLL: -0.000'>\n",
       "\n",
       "</span><span style='padding: 2px 4px; margin: 2px; display: inline-block; background-color: #f8fccb; color: black' title='NLL: 5.625'>Paris</span><span style='padding: 2px 4px; margin: 2px; display: inline-block; background-color: #78b0d3; color: black' title='NLL: 2.484'>.</span><span style='padding: 2px 4px; margin: 2px; display: inline-block; background-color: #313695; color: white' title='NLL: 0.008'>&lt;|eot_id|&gt;</span><span style='padding: 2px 4px; margin: 2px; display: inline-block; background-color: #313695; color: white' title='NLL: 0.000'>&lt;|start_header_id|&gt;</span><span style='padding: 2px 4px; margin: 2px; display: inline-block; background-color: #a50026; color: white' title='NLL: 36.000'>user</span><span style='padding: 2px 4px; margin: 2px; display: inline-block; background-color: #69a0ca; color: black' title='NLL: 2.078'>&lt;|end_header_id|&gt;</span><span style='padding: 2px 4px; margin: 2px; display: inline-block; background-color: #b6dfec; color: black' title='NLL: 3.781'>\n",
       "\n",
       "</span><span style='padding: 2px 4px; margin: 2px; display: inline-block; background-color: #426cb0; color: white' title='NLL: 1.047'>What</span><span style='padding: 2px 4px; margin: 2px; display: inline-block; background-color: #c9e8f2; color: black' title='NLL: 4.219'> do</span><span style='padding: 2px 4px; margin: 2px; display: inline-block; background-color: #a3d3e6; color: black' title='NLL: 3.375'> people</span><span style='padding: 2px 4px; margin: 2px; display: inline-block; background-color: #d6eef5; color: black' title='NLL: 4.469'> like</span><span style='padding: 2px 4px; margin: 2px; display: inline-block; background-color: #34409a; color: white' title='NLL: 0.220'> to</span><span style='padding: 2px 4px; margin: 2px; display: inline-block; background-color: #78b0d3; color: black' title='NLL: 2.469'> eat</span><span style='padding: 2px 4px; margin: 2px; display: inline-block; background-color: #fff7b3; color: black' title='NLL: 6.188'> there</span><span style='padding: 2px 4px; margin: 2px; display: inline-block; background-color: #333d99; color: white' title='NLL: 0.176'>?</span><span style='padding: 2px 4px; margin: 2px; display: inline-block; background-color: #69a0ca; color: black' title='NLL: 2.094'>&lt;|eot_id|&gt;</span><span style='padding: 2px 4px; margin: 2px; display: inline-block; background-color: #313695; color: white' title='NLL: -0.000'>&lt;|start_header_id|&gt;</span><span style='padding: 2px 4px; margin: 2px; display: inline-block; background-color: #313695; color: white' title='NLL: -0.000'>assistant</span><span style='padding: 2px 4px; margin: 2px; display: inline-block; background-color: #313695; color: white' title='NLL: 0.000'>&lt;|end_header_id|&gt;</span><span style='padding: 2px 4px; margin: 2px; display: inline-block; background-color: #313695; color: white' title='NLL: 0.000'>\n",
       "\n",
       "</span><span style='padding: 2px 4px; margin: 2px; display: inline-block; background-color: #e0f3f8; color: black' title='NLL: 4.719'>People</span><span style='padding: 2px 4px; margin: 2px; display: inline-block; background-color: #323896; color: white' title='NLL: 0.091'> in</span><span style='padding: 2px 4px; margin: 2px; display: inline-block; background-color: #6297c6; color: black' title='NLL: 1.914'> Paris</span><span style='padding: 2px 4px; margin: 2px; display: inline-block; background-color: #c82227; color: white' title='NLL: 10.938'> like</span><span style='padding: 2px 4px; margin: 2px; display: inline-block; background-color: #313695; color: white' title='NLL: 0.001'> to</span><span style='padding: 2px 4px; margin: 2px; display: inline-block; background-color: #313695; color: white' title='NLL: 0.013'> eat</span><span style='padding: 2px 4px; margin: 2px; display: inline-block; background-color: #feda8a; color: black' title='NLL: 7.188'> cro</span><span style='padding: 2px 4px; margin: 2px; display: inline-block; background-color: #313695; color: white' title='NLL: 0.001'>iss</span><span style='padding: 2px 4px; margin: 2px; display: inline-block; background-color: #313695; color: white' title='NLL: 0.000'>ants</span><span style='padding: 2px 4px; margin: 2px; display: inline-block; background-color: #fffebe; color: black' title='NLL: 5.906'> and</span><span style='padding: 2px 4px; margin: 2px; display: inline-block; background-color: #3c59a6; color: white' title='NLL: 0.660'> bag</span><span style='padding: 2px 4px; margin: 2px; display: inline-block; background-color: #313695; color: white' title='NLL: 0.006'>uet</span><span style='padding: 2px 4px; margin: 2px; display: inline-block; background-color: #313695; color: white' title='NLL: 0.000'>tes</span><span style='padding: 2px 4px; margin: 2px; display: inline-block; background-color: #94c7df; color: black' title='NLL: 3.047'>.</span><span style='padding: 2px 4px; margin: 2px; display: inline-block; background-color: #6095c4; color: black' title='NLL: 1.859'>&lt;|eot_id|&gt;</span><span style='padding: 2px 4px; margin: 2px; display: inline-block; background-color: #313695; color: white' title='NLL: 0.000'>&lt;|start_header_id|&gt;</span><span style='padding: 2px 4px; margin: 2px; display: inline-block; background-color: #a50026; color: white' title='NLL: 37.000'>user</span><span style='padding: 2px 4px; margin: 2px; display: inline-block; background-color: #fff8b5; color: black' title='NLL: 6.125'>&lt;|end_header_id|&gt;</span><span style='padding: 2px 4px; margin: 2px; display: inline-block; background-color: #8ec2dc; color: black' title='NLL: 2.938'>\n",
       "\n",
       "</span><span style='padding: 2px 4px; margin: 2px; display: inline-block; background-color: #fff5af; color: black' title='NLL: 6.281'>That</span><span style='padding: 2px 4px; margin: 2px; display: inline-block; background-color: #313695; color: white' title='NLL: 0.012'>&#x27;s</span><span style='padding: 2px 4px; margin: 2px; display: inline-block; background-color: #f67c4a; color: black' title='NLL: 9.125'> interesting</span><span style='padding: 2px 4px; margin: 2px; display: inline-block; background-color: #3e5ea8; color: white' title='NLL: 0.758'>.</span><span style='padding: 2px 4px; margin: 2px; display: inline-block; background-color: #5183bb; color: white' title='NLL: 1.477'> What</span><span style='padding: 2px 4px; margin: 2px; display: inline-block; background-color: #4471b2; color: white' title='NLL: 1.109'> about</span><span style='padding: 2px 4px; margin: 2px; display: inline-block; background-color: #aedbea; color: black' title='NLL: 3.609'> the</span><span style='padding: 2px 4px; margin: 2px; display: inline-block; background-color: #e44c34; color: white' title='NLL: 10.062'> weather</span><span style='padding: 2px 4px; margin: 2px; display: inline-block; background-color: #36479e; color: white' title='NLL: 0.352'>?</span><span style='padding: 2px 4px; margin: 2px; display: inline-block; background-color: #78b0d3; color: black' title='NLL: 2.453'> What</span><span style='padding: 2px 4px; margin: 2px; display: inline-block; background-color: #5183bb; color: white' title='NLL: 1.516'> is</span><span style='padding: 2px 4px; margin: 2px; display: inline-block; background-color: #4574b3; color: white' title='NLL: 1.188'> it</span><span style='padding: 2px 4px; margin: 2px; display: inline-block; background-color: #36479e; color: white' title='NLL: 0.346'> like</span><span style='padding: 2px 4px; margin: 2px; display: inline-block; background-color: #35429b; color: white' title='NLL: 0.235'> in</span><span style='padding: 2px 4px; margin: 2px; display: inline-block; background-color: #def2f7; color: black' title='NLL: 4.656'> the</span><span style='padding: 2px 4px; margin: 2px; display: inline-block; background-color: #bfe3ef; color: black' title='NLL: 4.000'> summer</span><span style='padding: 2px 4px; margin: 2px; display: inline-block; background-color: #36479e; color: white' title='NLL: 0.338'>?</span><span style='padding: 2px 4px; margin: 2px; display: inline-block; background-color: #7db4d5; color: black' title='NLL: 2.578'>&lt;|eot_id|&gt;</span><span style='padding: 2px 4px; margin: 2px; display: inline-block; background-color: #313695; color: white' title='NLL: -0.000'>&lt;|start_header_id|&gt;</span><span style='padding: 2px 4px; margin: 2px; display: inline-block; background-color: #313695; color: white' title='NLL: -0.000'>assistant</span><span style='padding: 2px 4px; margin: 2px; display: inline-block; background-color: #313695; color: white' title='NLL: 0.000'>&lt;|end_header_id|&gt;</span><span style='padding: 2px 4px; margin: 2px; display: inline-block; background-color: #313695; color: white' title='NLL: -0.000'>\n",
       "\n",
       "</span>"
      ],
      "text/plain": [
       "<IPython.core.display.HTML object>"
      ]
     },
     "metadata": {},
     "output_type": "display_data"
    }
   ],
   "source": [
    "visualize_token_nlls(tokens[0].cpu(), per_token_nlls[0].cpu().float(), tokenizer)"
   ]
  },
  {
   "cell_type": "code",
   "execution_count": 16,
   "metadata": {},
   "outputs": [],
   "source": [
    "role_nlls = model.get_role_nlls(tokens)"
   ]
  },
  {
   "cell_type": "code",
   "execution_count": 17,
   "metadata": {},
   "outputs": [
    {
     "name": "stdout",
     "output_type": "stream",
     "text": [
      "user (NLL=33.5): '\\n\\nWhat is the capital of France?'\n",
      "assistant (NLL=8.125): '\\n\\nParis.'\n",
      "user (NLL=25.875): '\\n\\nWhat do people like to eat there?'\n",
      "assistant (NLL=34.25): '\\n\\nPeople in Paris like to eat croissants and baguettes.'\n",
      "user (NLL=50.5): '\\n\\nThat's interesting. What about the weather? What is it like in the summer?'\n",
      "assistant (NLL=0.0): '\\n\\n'\n"
     ]
    }
   ],
   "source": [
    "for item in role_nlls:\n",
    "    token_str = tokenizer.decode(item['tokens']).replace('\\n', '\\\\n')\n",
    "    print(f\"{tokenizer.decode(item['role'])} (NLL={item['nll']}): '{token_str}'\")"
   ]
  },
  {
   "cell_type": "code",
   "execution_count": 18,
   "metadata": {},
   "outputs": [
    {
     "name": "stderr",
     "output_type": "stream",
     "text": [
      "Setting `pad_token_id` to `eos_token_id`:128001 for open-end generation.\n"
     ]
    }
   ],
   "source": [
    "generation = model.sample(tokens.to(model.device), max_n_tokens=500)"
   ]
  },
  {
   "cell_type": "code",
   "execution_count": 19,
   "metadata": {},
   "outputs": [
    {
     "name": "stdout",
     "output_type": "stream",
     "text": [
      "<|begin_of_text|><|start_header_id|>user<|end_header_id|>\n",
      "\n",
      "What is the capital of France?<|eot_id|><|start_header_id|>assistant<|end_header_id|>\n",
      "\n",
      "Paris.<|eot_id|><|start_header_id|>user<|end_header_id|>\n",
      "\n",
      "What do people like to eat there?<|eot_id|><|start_header_id|>assistant<|end_header_id|>\n",
      "\n",
      "People in Paris like to eat croissants and baguettes.<|eot_id|><|start_header_id|>user<|end_header_id|>\n",
      "\n",
      "That's interesting. What about the weather? What is it like in the summer?<|eot_id|><|start_header_id|>assistant<|end_header_id|>\n",
      "\n",
      "The weather in Paris can be quite pleasant in the summer. It's usually mild and warm, with average high temperatures ranging from 22-25°C (72-77°F) from June to August. However, it's not uncommon to experience occasional heatwaves, and the city can get quite crowded during the peak tourist season.<|eot_id|>\n"
     ]
    }
   ],
   "source": [
    "print(tokenizer.decode(generation[0]))"
   ]
  },
  {
   "cell_type": "code",
   "execution_count": 20,
   "metadata": {},
   "outputs": [],
   "source": [
    "assistant_token_embedding = model.assistant_token_embedding\n",
    "user_token_embedding = model.user_token_embedding"
   ]
  },
  {
   "cell_type": "code",
   "execution_count": 29,
   "metadata": {},
   "outputs": [],
   "source": [
    "intervention = InterventionSettings(\n",
    "    intervention=Intervention.EMBEDDING_COLOR,\n",
    "    user_vector=user_token_embedding*0.5,\n",
    "    assistant_vector=assistant_token_embedding*0.5,\n",
    ")"
   ]
  },
  {
   "cell_type": "code",
   "execution_count": 30,
   "metadata": {},
   "outputs": [],
   "source": [
    "model.set_intervention(intervention)"
   ]
  },
  {
   "cell_type": "code",
   "execution_count": 31,
   "metadata": {},
   "outputs": [
    {
     "data": {
      "text/plain": [
       "[<torch.utils.hooks.RemovableHandle at 0x7f6b1436ef20>,\n",
       " <torch.utils.hooks.RemovableHandle at 0x7f696df54a00>,\n",
       " <torch.utils.hooks.RemovableHandle at 0x7f696df57fa0>]"
      ]
     },
     "execution_count": 31,
     "metadata": {},
     "output_type": "execute_result"
    }
   ],
   "source": [
    "model.hooks"
   ]
  },
  {
   "cell_type": "code",
   "execution_count": 32,
   "metadata": {},
   "outputs": [
    {
     "name": "stderr",
     "output_type": "stream",
     "text": [
      "Setting `pad_token_id` to `eos_token_id`:128001 for open-end generation.\n"
     ]
    },
    {
     "name": "stdout",
     "output_type": "stream",
     "text": [
      "<|begin_of_text|><|start_header_id|>user<|end_header_id|>\n",
      "\n",
      "What is the capital of France?<|eot_id|><|start_header_id|>assistant<|end_header_id|>\n",
      "\n",
      "Paris.<|eot_id|><|start_header_id|>user<|end_header_id|>\n",
      "\n",
      "What do people like to eat there?<|eot_id|><|start_header_id|>assistant<|end_header_id|>\n",
      "\n",
      "People in Paris like to eat croissants and baguettes.<|eot_id|><|start_header_id|>user<|end_header_id|>\n",
      "\n",
      "That's interesting. What about the weather? What is it like in the summer?<|eot_id|><|start_header_id|>assistant<|end_header_id|>\n",
      "\n",
      "The weather in Paris can be quite pleasant in the summer. It's usually mild and warm, with average high temperatures ranging from 22°C to 25°C (72°F to 77°F) from June to August. However, it's not uncommon to experience occasional heatwaves, especially in July and August.\n",
      "\n",
      "It's also a good idea to be prepared for occasional rain showers, as Paris can experience sudden downpours during the summer months. But overall, the summer weather in Paris is often described as \"magnifique\" (magnificent) by locals and visitors alike!<|eot_id|>\n"
     ]
    }
   ],
   "source": [
    "generation = model.sample(tokens.to(model.device), max_n_tokens=250)\n",
    "print(tokenizer.decode(generation[0]))"
   ]
  },
  {
   "cell_type": "code",
   "execution_count": 33,
   "metadata": {},
   "outputs": [
    {
     "data": {
      "text/html": [
       "\n",
       "    <div style='margin-bottom: 10px'>\n",
       "        <span style='font-size: 0.9em'>NLL Range: </span>\n",
       "        <span style='padding: 2px 8px; background-color: #313695; color: white'>Low 0.00</span>\n",
       "        <span style='padding: 2px 8px; background-color: #fffebe'>Med 6.72</span>\n",
       "        <span style='padding: 2px 8px; background-color: #a50026; color: white'>High 13.44</span>\n",
       "    </div>\n",
       "    <span style='padding: 2px 4px; margin: 0 1px; border: 1px dashed #ccc'>128000</span><span style='padding: 2px 4px; margin: 2px; display: inline-block; background-color: #9fd0e4; color: black' title='NLL: 3.734'>&lt;|start_header_id|&gt;</span><span style='padding: 2px 4px; margin: 2px; display: inline-block; background-color: #f99153; color: black' title='NLL: 10.000'>user</span><span style='padding: 2px 4px; margin: 2px; display: inline-block; background-color: #a50026; color: white' title='NLL: 17.625'>&lt;|end_header_id|&gt;</span><span style='padding: 2px 4px; margin: 2px; display: inline-block; background-color: #4f81ba; color: white' title='NLL: 1.641'>\n",
       "\n",
       "</span><span style='padding: 2px 4px; margin: 2px; display: inline-block; background-color: #e2f4f4; color: black' title='NLL: 5.500'>What</span><span style='padding: 2px 4px; margin: 2px; display: inline-block; background-color: #3b56a5; color: white' title='NLL: 0.719'> is</span><span style='padding: 2px 4px; margin: 2px; display: inline-block; background-color: #36479e; color: white' title='NLL: 0.412'> the</span><span style='padding: 2px 4px; margin: 2px; display: inline-block; background-color: #cbe9f2; color: black' title='NLL: 4.875'> capital</span><span style='padding: 2px 4px; margin: 2px; display: inline-block; background-color: #333d99; color: white' title='NLL: 0.196'> of</span><span style='padding: 2px 4px; margin: 2px; display: inline-block; background-color: #9fd0e4; color: black' title='NLL: 3.734'> France</span><span style='padding: 2px 4px; margin: 2px; display: inline-block; background-color: #a3d3e6; color: black' title='NLL: 3.875'>?</span><span style='padding: 2px 4px; margin: 2px; display: inline-block; background-color: #fdc778; color: black' title='NLL: 8.750'>&lt;|eot_id|&gt;</span><span style='padding: 2px 4px; margin: 2px; display: inline-block; background-color: #c9e8f2; color: black' title='NLL: 4.781'>&lt;|start_header_id|&gt;</span><span style='padding: 2px 4px; margin: 2px; display: inline-block; background-color: #92c5de; color: black' title='NLL: 3.438'>assistant</span><span style='padding: 2px 4px; margin: 2px; display: inline-block; background-color: #a6d5e7; color: black' title='NLL: 3.891'>&lt;|end_header_id|&gt;</span><span style='padding: 2px 4px; margin: 2px; display: inline-block; background-color: #313695; color: white' title='NLL: 0.000'>\n",
       "\n",
       "</span><span style='padding: 2px 4px; margin: 2px; display: inline-block; background-color: #ebf7e4; color: black' title='NLL: 5.875'>Paris</span><span style='padding: 2px 4px; margin: 2px; display: inline-block; background-color: #b9e0ed; color: black' title='NLL: 4.406'>.</span><span style='padding: 2px 4px; margin: 2px; display: inline-block; background-color: #394fa1; color: white' title='NLL: 0.562'>&lt;|eot_id|&gt;</span><span style='padding: 2px 4px; margin: 2px; display: inline-block; background-color: #f1fad9; color: black' title='NLL: 6.125'>&lt;|start_header_id|&gt;</span><span style='padding: 2px 4px; margin: 2px; display: inline-block; background-color: #a50026; color: white' title='NLL: 20.625'>user</span><span style='padding: 2px 4px; margin: 2px; display: inline-block; background-color: #a50026; color: white' title='NLL: 22.000'>&lt;|end_header_id|&gt;</span><span style='padding: 2px 4px; margin: 2px; display: inline-block; background-color: #313695; color: white' title='NLL: 0.007'>\n",
       "\n",
       "</span><span style='padding: 2px 4px; margin: 2px; display: inline-block; background-color: #5183bb; color: white' title='NLL: 1.719'>What</span><span style='padding: 2px 4px; margin: 2px; display: inline-block; background-color: #def2f7; color: black' title='NLL: 5.344'> do</span><span style='padding: 2px 4px; margin: 2px; display: inline-block; background-color: #70a9cf; color: black' title='NLL: 2.578'> people</span><span style='padding: 2px 4px; margin: 2px; display: inline-block; background-color: #cfebf3; color: black' title='NLL: 4.969'> like</span><span style='padding: 2px 4px; margin: 2px; display: inline-block; background-color: #323896; color: white' title='NLL: 0.095'> to</span><span style='padding: 2px 4px; margin: 2px; display: inline-block; background-color: #76afd2; color: black' title='NLL: 2.766'> eat</span><span style='padding: 2px 4px; margin: 2px; display: inline-block; background-color: #ecf8e2; color: black' title='NLL: 5.906'> there</span><span style='padding: 2px 4px; margin: 2px; display: inline-block; background-color: #36459c; color: white' title='NLL: 0.322'>?</span><span style='padding: 2px 4px; margin: 2px; display: inline-block; background-color: #feea9f; color: black' title='NLL: 7.656'>&lt;|eot_id|&gt;</span><span style='padding: 2px 4px; margin: 2px; display: inline-block; background-color: #aad8e9; color: black' title='NLL: 4.031'>&lt;|start_header_id|&gt;</span><span style='padding: 2px 4px; margin: 2px; display: inline-block; background-color: #3f62ab; color: white' title='NLL: 0.992'>assistant</span><span style='padding: 2px 4px; margin: 2px; display: inline-block; background-color: #b2ddeb; color: black' title='NLL: 4.250'>&lt;|end_header_id|&gt;</span><span style='padding: 2px 4px; margin: 2px; display: inline-block; background-color: #313695; color: white' title='NLL: -0.000'>\n",
       "\n",
       "</span><span style='padding: 2px 4px; margin: 2px; display: inline-block; background-color: #bde2ee; color: black' title='NLL: 4.469'>People</span><span style='padding: 2px 4px; margin: 2px; display: inline-block; background-color: #426cb0; color: white' title='NLL: 1.203'> in</span><span style='padding: 2px 4px; margin: 2px; display: inline-block; background-color: #4574b3; color: white' title='NLL: 1.320'> Paris</span><span style='padding: 2px 4px; margin: 2px; display: inline-block; background-color: #fdb567; color: black' title='NLL: 9.188'> like</span><span style='padding: 2px 4px; margin: 2px; display: inline-block; background-color: #313695; color: white' title='NLL: 0.001'> to</span><span style='padding: 2px 4px; margin: 2px; display: inline-block; background-color: #313695; color: white' title='NLL: 0.007'> eat</span><span style='padding: 2px 4px; margin: 2px; display: inline-block; background-color: #bbe1ed; color: black' title='NLL: 4.438'> cro</span><span style='padding: 2px 4px; margin: 2px; display: inline-block; background-color: #313695; color: white' title='NLL: 0.002'>iss</span><span style='padding: 2px 4px; margin: 2px; display: inline-block; background-color: #313695; color: white' title='NLL: 0.000'>ants</span><span style='padding: 2px 4px; margin: 2px; display: inline-block; background-color: #83b9d8; color: black' title='NLL: 3.062'> and</span><span style='padding: 2px 4px; margin: 2px; display: inline-block; background-color: #4065ac; color: white' title='NLL: 1.039'> bag</span><span style='padding: 2px 4px; margin: 2px; display: inline-block; background-color: #313695; color: white' title='NLL: 0.037'>uet</span><span style='padding: 2px 4px; margin: 2px; display: inline-block; background-color: #313695; color: white' title='NLL: 0.000'>tes</span><span style='padding: 2px 4px; margin: 2px; display: inline-block; background-color: #5e93c3; color: black' title='NLL: 2.094'>.</span><span style='padding: 2px 4px; margin: 2px; display: inline-block; background-color: #feea9f; color: black' title='NLL: 7.656'>&lt;|eot_id|&gt;</span><span style='padding: 2px 4px; margin: 2px; display: inline-block; background-color: #eaf7e6; color: black' title='NLL: 5.781'>&lt;|start_header_id|&gt;</span><span style='padding: 2px 4px; margin: 2px; display: inline-block; background-color: #a50026; color: white' title='NLL: 13.688'>user</span><span style='padding: 2px 4px; margin: 2px; display: inline-block; background-color: #a70226; color: white' title='NLL: 13.375'>&lt;|end_header_id|&gt;</span><span style='padding: 2px 4px; margin: 2px; display: inline-block; background-color: #313695; color: white' title='NLL: 0.000'>\n",
       "\n",
       "</span><span style='padding: 2px 4px; margin: 2px; display: inline-block; background-color: #4676b5; color: white' title='NLL: 1.414'>That</span><span style='padding: 2px 4px; margin: 2px; display: inline-block; background-color: #313695; color: white' title='NLL: 0.048'>&#x27;s</span><span style='padding: 2px 4px; margin: 2px; display: inline-block; background-color: #fed283; color: black' title='NLL: 8.438'> interesting</span><span style='padding: 2px 4px; margin: 2px; display: inline-block; background-color: #384ca0; color: white' title='NLL: 0.484'>.</span><span style='padding: 2px 4px; margin: 2px; display: inline-block; background-color: #5a8ec1; color: black' title='NLL: 1.969'> What</span><span style='padding: 2px 4px; margin: 2px; display: inline-block; background-color: #416aaf; color: white' title='NLL: 1.125'> about</span><span style='padding: 2px 4px; margin: 2px; display: inline-block; background-color: #92c5de; color: black' title='NLL: 3.422'> the</span><span style='padding: 2px 4px; margin: 2px; display: inline-block; background-color: #e0422f; color: white' title='NLL: 11.688'> weather</span><span style='padding: 2px 4px; margin: 2px; display: inline-block; background-color: #36479e; color: white' title='NLL: 0.377'>?</span><span style='padding: 2px 4px; margin: 2px; display: inline-block; background-color: #8abeda; color: black' title='NLL: 3.219'> What</span><span style='padding: 2px 4px; margin: 2px; display: inline-block; background-color: #3e60aa; color: white' title='NLL: 0.941'> is</span><span style='padding: 2px 4px; margin: 2px; display: inline-block; background-color: #5385bd; color: white' title='NLL: 1.781'> it</span><span style='padding: 2px 4px; margin: 2px; display: inline-block; background-color: #36479e; color: white' title='NLL: 0.412'> like</span><span style='padding: 2px 4px; margin: 2px; display: inline-block; background-color: #333d99; color: white' title='NLL: 0.185'> in</span><span style='padding: 2px 4px; margin: 2px; display: inline-block; background-color: #b9e0ed; color: black' title='NLL: 4.406'> the</span><span style='padding: 2px 4px; margin: 2px; display: inline-block; background-color: #bde2ee; color: black' title='NLL: 4.469'> summer</span><span style='padding: 2px 4px; margin: 2px; display: inline-block; background-color: #374a9f; color: white' title='NLL: 0.432'>?</span><span style='padding: 2px 4px; margin: 2px; display: inline-block; background-color: #fff6b1; color: black' title='NLL: 7.125'>&lt;|eot_id|&gt;</span><span style='padding: 2px 4px; margin: 2px; display: inline-block; background-color: #3c59a6; color: white' title='NLL: 0.773'>&lt;|start_header_id|&gt;</span><span style='padding: 2px 4px; margin: 2px; display: inline-block; background-color: #d6eef5; color: black' title='NLL: 5.125'>assistant</span><span style='padding: 2px 4px; margin: 2px; display: inline-block; background-color: #83b9d8; color: black' title='NLL: 3.047'>&lt;|end_header_id|&gt;</span><span style='padding: 2px 4px; margin: 2px; display: inline-block; background-color: #313695; color: white' title='NLL: -0.000'>\n",
       "\n",
       "</span>"
      ],
      "text/plain": [
       "<IPython.core.display.HTML object>"
      ]
     },
     "metadata": {},
     "output_type": "display_data"
    }
   ],
   "source": [
    "per_token_nlls = model.get_per_token_nlls(tokens)\n",
    "visualize_token_nlls(tokens[0].cpu(), per_token_nlls[0].cpu().float(), tokenizer)"
   ]
  },
  {
   "cell_type": "code",
   "execution_count": 53,
   "metadata": {},
   "outputs": [],
   "source": [
    "def get_msj_nlls(model: ModelWrapper, dataset: list[dict]|str):\n",
    "    if isinstance(dataset, str):\n",
    "        with open(dataset) as f:\n",
    "            dataset = json.load(f)\n",
    "    result = defaultdict(list)\n",
    "    for row in tqdm(dataset):\n",
    "        tokens = torch.tensor(row[\"tokens\"]).to(model.device)\n",
    "        nlls = model.get_role_nlls(tokens)\n",
    "        result[row['n_shots']].append(nlls)\n",
    "    return result"
   ]
  },
  {
   "cell_type": "code",
   "execution_count": 52,
   "metadata": {},
   "outputs": [
    {
     "name": "stderr",
     "output_type": "stream",
     "text": [
      "  0%|          | 0/400 [00:00<?, ?it/s]\n"
     ]
    },
    {
     "ename": "AttributeError",
     "evalue": "'dict' object has no attribute 'append'",
     "output_type": "error",
     "traceback": [
      "\u001b[0;31m---------------------------------------------------------------------------\u001b[0m",
      "\u001b[0;31mAttributeError\u001b[0m                            Traceback (most recent call last)",
      "Cell \u001b[0;32mIn[52], line 2\u001b[0m\n\u001b[1;32m      1\u001b[0m model\u001b[38;5;241m.\u001b[39mreset_hooks()\n\u001b[0;32m----> 2\u001b[0m msj_jailbreak_nlls \u001b[38;5;241m=\u001b[39m \u001b[43mget_msj_nlls\u001b[49m\u001b[43m(\u001b[49m\u001b[43mmodel\u001b[49m\u001b[43m,\u001b[49m\u001b[43m \u001b[49m\u001b[38;5;124;43m\"\u001b[39;49m\u001b[38;5;124;43mprocessed_data/test/msjs_jailbreak.json\u001b[39;49m\u001b[38;5;124;43m\"\u001b[39;49m\u001b[43m)\u001b[49m\n\u001b[1;32m      3\u001b[0m msj_recovery_nlls \u001b[38;5;241m=\u001b[39m get_msj_nlls(model, \u001b[38;5;124m\"\u001b[39m\u001b[38;5;124mprocessed_data/test/msjs_recovery.json\u001b[39m\u001b[38;5;124m\"\u001b[39m)\n\u001b[1;32m      4\u001b[0m msj_mean_jailbreak_nlls \u001b[38;5;241m=\u001b[39m get_msj_nlls(model, \u001b[38;5;124m\"\u001b[39m\u001b[38;5;124mprocessed_data/test/msjs_mean_jailbreak.json\u001b[39m\u001b[38;5;124m\"\u001b[39m)\n",
      "Cell \u001b[0;32mIn[51], line 9\u001b[0m, in \u001b[0;36mget_msj_nlls\u001b[0;34m(model, dataset)\u001b[0m\n\u001b[1;32m      7\u001b[0m     tokens \u001b[38;5;241m=\u001b[39m torch\u001b[38;5;241m.\u001b[39mtensor(row[\u001b[38;5;124m\"\u001b[39m\u001b[38;5;124mtokens\u001b[39m\u001b[38;5;124m\"\u001b[39m])\u001b[38;5;241m.\u001b[39mto(model\u001b[38;5;241m.\u001b[39mdevice)\n\u001b[1;32m      8\u001b[0m     nlls \u001b[38;5;241m=\u001b[39m model\u001b[38;5;241m.\u001b[39mget_role_nlls(tokens)\n\u001b[0;32m----> 9\u001b[0m     \u001b[43mresult\u001b[49m\u001b[43m[\u001b[49m\u001b[43mrow\u001b[49m\u001b[43m[\u001b[49m\u001b[38;5;124;43m'\u001b[39;49m\u001b[38;5;124;43mn_shots\u001b[39;49m\u001b[38;5;124;43m'\u001b[39;49m\u001b[43m]\u001b[49m\u001b[43m]\u001b[49m\u001b[38;5;241;43m.\u001b[39;49m\u001b[43mappend\u001b[49m(nlls)\n\u001b[1;32m     10\u001b[0m \u001b[38;5;28;01mreturn\u001b[39;00m result\n",
      "\u001b[0;31mAttributeError\u001b[0m: 'dict' object has no attribute 'append'"
     ]
    }
   ],
   "source": [
    "model.reset_hooks()\n",
    "msj_jailbreak_nlls = get_msj_nlls(model, \"processed_data/test/msjs_jailbreak.json\")\n",
    "msj_recovery_nlls = get_msj_nlls(model, \"processed_data/test/msjs_recovery.json\")\n",
    "msj_mean_jailbreak_nlls = get_msj_nlls(model, \"processed_data/test/msjs_mean_jailbreak.json\")\n",
    "msj_mean_recovery_nlls = get_msj_nlls(model, \"processed_data/test/msjs_mean_recovery.json\")"
   ]
  },
  {
   "cell_type": "code",
   "execution_count": 259,
   "metadata": {},
   "outputs": [],
   "source": [
    "results = [get_msj_nlls(model, h) for h in harmful_msjs[:50]]"
   ]
  },
  {
   "cell_type": "code",
   "execution_count": 279,
   "metadata": {},
   "outputs": [],
   "source": [
    "assistant_color_handle = modify_per_token_embeddings(model, assistant_mask_function, assistant_embedding*0.75)\n",
    "user_color_handle = modify_per_token_embeddings(model, user_mask_function, user_embedding*0.75)"
   ]
  },
  {
   "cell_type": "code",
   "execution_count": 280,
   "metadata": {},
   "outputs": [],
   "source": [
    "modified_results = [get_msj_nlls(model, h) for h in harmful_msjs[:50]]"
   ]
  },
  {
   "cell_type": "code",
   "execution_count": 281,
   "metadata": {},
   "outputs": [],
   "source": [
    "from collections import defaultdict"
   ]
  },
  {
   "cell_type": "code",
   "execution_count": null,
   "metadata": {},
   "outputs": [],
   "source": [
    "results[0][32]"
   ]
  },
  {
   "cell_type": "code",
   "execution_count": 283,
   "metadata": {},
   "outputs": [],
   "source": [
    "all_res = defaultdict(list)\n",
    "for r in results:\n",
    "    for k, v in r.items():\n",
    "        all_res[k].append(v[-1]['nll'])\n",
    "means = {}\n",
    "for k, v in all_res.items():\n",
    "    means[k] = sum(v)/len(v)\n",
    "data = list(means.items())"
   ]
  },
  {
   "cell_type": "code",
   "execution_count": 284,
   "metadata": {},
   "outputs": [],
   "source": [
    "all_res = defaultdict(list)\n",
    "for r in modified_results:\n",
    "    for k, v in r.items():\n",
    "        all_res[k].append(v[-1]['nll'])\n",
    "means = {}\n",
    "for k, v in all_res.items():\n",
    "    means[k] = sum(v)/len(v)\n",
    "data_2 = list(means.items())"
   ]
  },
  {
   "cell_type": "code",
   "execution_count": 285,
   "metadata": {},
   "outputs": [],
   "source": [
    "def create_log_plot(data, figsize=(6, 3)):\n",
    "    fig, ax = plt.subplots(figsize=figsize)\n",
    "    if not (isinstance(data, list) and isinstance(data[0], list)):\n",
    "        data = [data]\n",
    "    for i, series in enumerate(data):\n",
    "        shots, nlls = zip(*series)  # Unzip the tuples\n",
    "        shots = np.array(shots)\n",
    "        ax.plot(shots, nlls, 'o-', markersize=5, label=f'Series {i+1}')\n",
    "    ax.set_xscale('log', base=2)\n",
    "    ax.set_yscale('log', base=10)\n",
    "    ax.set_xlabel('Number of shots')\n",
    "    ax.set_ylabel('NLL of final assistant response')    \n",
    "    # Add legend\n",
    "    ax.legend(bbox_to_anchor=(1.02, 1), loc='upper left')\n",
    "    # Adjust layout to prevent label cutoff\n",
    "    plt.tight_layout()\n",
    "    plt.show()"
   ]
  },
  {
   "cell_type": "code",
   "execution_count": null,
   "metadata": {},
   "outputs": [],
   "source": [
    "data"
   ]
  },
  {
   "cell_type": "code",
   "execution_count": null,
   "metadata": {},
   "outputs": [],
   "source": [
    "create_log_plot([data, data_2])"
   ]
  },
  {
   "cell_type": "code",
   "execution_count": null,
   "metadata": {},
   "outputs": [],
   "source": []
  }
 ],
 "metadata": {
  "kernelspec": {
   "display_name": "venv",
   "language": "python",
   "name": "python3"
  },
  "language_info": {
   "codemirror_mode": {
    "name": "ipython",
    "version": 3
   },
   "file_extension": ".py",
   "mimetype": "text/x-python",
   "name": "python",
   "nbconvert_exporter": "python",
   "pygments_lexer": "ipython3",
   "version": "3.10.13"
  }
 },
 "nbformat": 4,
 "nbformat_minor": 2
}

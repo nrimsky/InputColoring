{
 "cells": [
  {
   "cell_type": "code",
   "execution_count": 18,
   "metadata": {},
   "outputs": [],
   "source": [
    "from transformers import AutoTokenizer, AutoModelForCausalLM\n",
    "import torch\n",
    "import os\n",
    "from dotenv import load_dotenv\n",
    "import torch.nn.functional as F\n",
    "from IPython.display import display, HTML\n",
    "import matplotlib.pyplot as plt\n",
    "import matplotlib.colors as mcolors\n",
    "import numpy as np\n",
    "from transformers.models.llama import LlamaForCausalLM\n",
    "from transformers import BitsAndBytesConfig"
   ]
  },
  {
   "cell_type": "code",
   "execution_count": 2,
   "metadata": {},
   "outputs": [],
   "source": [
    "load_dotenv()\n",
    "\n",
    "HUGGINGFACE_TOKEN = os.getenv(\"HF_TOKEN\")"
   ]
  },
  {
   "cell_type": "code",
   "execution_count": 3,
   "metadata": {},
   "outputs": [],
   "source": [
    "MODEL_LLAMA_3_CHAT = \"meta-llama/Meta-Llama-3.1-8B-Instruct\""
   ]
  },
  {
   "cell_type": "code",
   "execution_count": 4,
   "metadata": {},
   "outputs": [],
   "source": [
    "tokenizer = AutoTokenizer.from_pretrained(\n",
    "    MODEL_LLAMA_3_CHAT, token=HUGGINGFACE_TOKEN\n",
    ")"
   ]
  },
  {
   "cell_type": "code",
   "execution_count": 11,
   "metadata": {},
   "outputs": [],
   "source": [
    "tokenizer.pad_token_id = tokenizer.eos_token_id"
   ]
  },
  {
   "cell_type": "code",
   "execution_count": 5,
   "metadata": {},
   "outputs": [
    {
     "name": "stderr",
     "output_type": "stream",
     "text": [
      "Downloading shards: 100%|██████████| 4/4 [06:23<00:00, 95.85s/it] \n",
      "Loading checkpoint shards: 100%|██████████| 4/4 [00:03<00:00,  1.15it/s]\n"
     ]
    }
   ],
   "source": [
    "model = AutoModelForCausalLM.from_pretrained(\n",
    "    MODEL_LLAMA_3_CHAT,\n",
    "    token=HUGGINGFACE_TOKEN,\n",
    "    torch_dtype=torch.bfloat16,\n",
    "    device_map=\"auto\",\n",
    ")"
   ]
  },
  {
   "cell_type": "code",
   "execution_count": 6,
   "metadata": {},
   "outputs": [],
   "source": [
    "messages = [\n",
    "    {\"role\": \"system\", \"content\": \"You are an AI assistant.\"},\n",
    "    {\"role\": \"user\", \"content\": \"What is the capital of France?\"},\n",
    "    {\"role\": \"assistant\", \"content\": \"Paris.\"},\n",
    "    {\"role\": \"user\", \"content\": \"What do people like to eat there?\"},\n",
    "    {\"role\": \"assistant\", \"content\": \"People in Paris like to eat croissants and baguettes.\"},\n",
    "]"
   ]
  },
  {
   "cell_type": "code",
   "execution_count": 7,
   "metadata": {},
   "outputs": [],
   "source": [
    "messages_formatted = tokenizer.apply_chat_template(\n",
    "            messages, tokenize=False, add_generation_prompt=False\n",
    "        ).replace(\"<|begin_of_text|>\", \"\")"
   ]
  },
  {
   "cell_type": "code",
   "execution_count": 9,
   "metadata": {},
   "outputs": [
    {
     "name": "stdout",
     "output_type": "stream",
     "text": [
      "<|start_header_id|>system<|end_header_id|>\n",
      "\n",
      "Cutting Knowledge Date: December 2023\n",
      "Today Date: 26 Jul 2024\n",
      "\n",
      "You are an AI assistant.<|eot_id|><|start_header_id|>user<|end_header_id|>\n",
      "\n",
      "What is the capital of France?<|eot_id|><|start_header_id|>assistant<|end_header_id|>\n",
      "\n",
      "Paris.<|eot_id|><|start_header_id|>user<|end_header_id|>\n",
      "\n",
      "What do people like to eat there?<|eot_id|><|start_header_id|>assistant<|end_header_id|>\n",
      "\n",
      "People in Paris like to eat croissants and baguettes.<|eot_id|>\n"
     ]
    }
   ],
   "source": [
    "print(messages_formatted)"
   ]
  },
  {
   "cell_type": "code",
   "execution_count": 12,
   "metadata": {},
   "outputs": [],
   "source": [
    "tokens = tokenizer.encode(messages_formatted, return_tensors=\"pt\")"
   ]
  },
  {
   "cell_type": "code",
   "execution_count": 14,
   "metadata": {},
   "outputs": [
    {
     "name": "stdout",
     "output_type": "stream",
     "text": [
      "<|begin_of_text|><|start_header_id|>system<|end_header_id|>\n",
      "\n",
      "Cutting Knowledge Date: December 2023\n",
      "Today Date: 26 Jul 2024\n",
      "\n",
      "You are an AI assistant.<|eot_id|><|start_header_id|>user<|end_header_id|>\n",
      "\n",
      "What is the capital of France?<|eot_id|><|start_header_id|>assistant<|end_header_id|>\n",
      "\n",
      "Paris.<|eot_id|><|start_header_id|>user<|end_header_id|>\n",
      "\n",
      "What do people like to eat there?<|eot_id|><|start_header_id|>assistant<|end_header_id|>\n",
      "\n",
      "People in Paris like to eat croissants and baguettes.<|eot_id|>\n"
     ]
    }
   ],
   "source": [
    "print(tokenizer.decode(tokens[0]))"
   ]
  },
  {
   "cell_type": "code",
   "execution_count": 27,
   "metadata": {},
   "outputs": [],
   "source": [
    "def get_per_token_nlls(model, tokens):\n",
    "    tokens = tokens.to(model.device)\n",
    "    with torch.no_grad():\n",
    "        outputs = model(tokens, return_dict=True)\n",
    "        logits = outputs.logits[:, :-1, :]  # Remove last position from logits\n",
    "        labels = tokens[:, 1:]  # Remove first position from labels\n",
    "        nlls = F.cross_entropy(\n",
    "            logits.view(-1, logits.size(-1)),\n",
    "            labels.view(-1),\n",
    "            reduction=\"none\"\n",
    "        )\n",
    "    return nlls.view(tokens.size(0), -1)  # Reshape to [batch_size, seq_len-1]"
   ]
  },
  {
   "cell_type": "code",
   "execution_count": 28,
   "metadata": {},
   "outputs": [],
   "source": [
    "per_token_nlls = get_per_token_nlls(model, tokens)"
   ]
  },
  {
   "cell_type": "code",
   "execution_count": 60,
   "metadata": {},
   "outputs": [],
   "source": [
    "def visualize_token_nlls(tokens, nlls, tokenizer, cmap='RdYlBu_r'):\n",
    "    cmap = plt.get_cmap(cmap)\n",
    "    # Normalize NLL values to [0,1] for color mapping\n",
    "    vmin, vmax = np.percentile(nlls, [5, 95])  # Use percentiles to handle outliers\n",
    "    norm = mcolors.Normalize(vmin=vmin, vmax=vmax)\n",
    "    # Generate HTML for the visualization\n",
    "    html_parts = []\n",
    "    # Add legend\n",
    "    html_parts.append(\"\"\"\n",
    "    <div style='margin-bottom: 10px'>\n",
    "        <span style='font-size: 0.9em'>NLL Range: </span>\n",
    "        <span style='padding: 2px 8px; background-color: {}; color: white'>Low {:.2f}</span>\n",
    "        <span style='padding: 2px 8px; background-color: {}'>Med {:.2f}</span>\n",
    "        <span style='padding: 2px 8px; background-color: {}; color: white'>High {:.2f}</span>\n",
    "    </div>\n",
    "    \"\"\".format(\n",
    "        mcolors.rgb2hex(cmap(0.0)),\n",
    "        vmin,\n",
    "        mcolors.rgb2hex(cmap(0.5)),\n",
    "        (vmax + vmin) / 2,\n",
    "        mcolors.rgb2hex(cmap(1.0)),\n",
    "        vmax\n",
    "    ))\n",
    "    # Add first token (which has no NLL)\n",
    "    html_parts.append(f\"<span style='padding: 2px 4px; margin: 0 1px; border: 1px dashed #ccc'>{tokens[0]}</span>\")\n",
    "    # Add remaining tokens with color coding\n",
    "    for token, nll in zip(tokens[1:], nlls, strict=True):\n",
    "        # Get color for this NLL value\n",
    "        color = mcolors.rgb2hex(cmap(norm(nll)))\n",
    "        # Determine text color (white for dark backgrounds)\n",
    "        rgb = mcolors.hex2color(color)\n",
    "        brightness = 0.299 * rgb[0] + 0.587 * rgb[1] + 0.114 * rgb[2]\n",
    "        text_color = 'white' if brightness < 0.5 else 'black'\n",
    "        # Add token with styling\n",
    "        detok = tokenizer.decode(token.unsqueeze(0))\n",
    "        html_parts.append(\n",
    "            f\"<span style='padding: 2px 4px; margin: 2px; display: inline-block; background-color: {color}; \"\n",
    "            f\"color: {text_color}' title='NLL: {nll:.3f}'>{detok}</span>\"\n",
    "        )\n",
    "    # Display the HTML\n",
    "    display(HTML(''.join(html_parts)))"
   ]
  },
  {
   "cell_type": "code",
   "execution_count": 61,
   "metadata": {},
   "outputs": [
    {
     "data": {
      "text/html": [
       "\n",
       "    <div style='margin-bottom: 10px'>\n",
       "        <span style='font-size: 0.9em'>NLL Range: </span>\n",
       "        <span style='padding: 2px 8px; background-color: #313695; color: white'>Low 0.00</span>\n",
       "        <span style='padding: 2px 8px; background-color: #fffebe'>Med 6.04</span>\n",
       "        <span style='padding: 2px 8px; background-color: #a50026; color: white'>High 12.08</span>\n",
       "    </div>\n",
       "    <span style='padding: 2px 4px; margin: 0 1px; border: 1px dashed #ccc'>128000</span><span style='padding: 2px 4px; margin: 2px; display: inline-block; background-color: #bbe1ed; color: black' title='NLL: 3.984'><|start_header_id|></span><span style='padding: 2px 4px; margin: 2px; display: inline-block; background-color: #a50026; color: white' title='NLL: 25.000'>system</span><span style='padding: 2px 4px; margin: 2px; display: inline-block; background-color: #7db4d5; color: black' title='NLL: 2.641'><|end_header_id|></span><span style='padding: 2px 4px; margin: 2px; display: inline-block; background-color: #a50026; color: white' title='NLL: 14.375'>\n",
       "\n",
       "</span><span style='padding: 2px 4px; margin: 2px; display: inline-block; background-color: #a50026; color: white' title='NLL: 12.125'>Cut</span><span style='padding: 2px 4px; margin: 2px; display: inline-block; background-color: #4471b2; color: white' title='NLL: 1.133'>ting</span><span style='padding: 2px 4px; margin: 2px; display: inline-block; background-color: #fee192; color: black' title='NLL: 7.219'> Knowledge</span><span style='padding: 2px 4px; margin: 2px; display: inline-block; background-color: #fdb164; color: black' title='NLL: 8.375'> Date</span><span style='padding: 2px 4px; margin: 2px; display: inline-block; background-color: #313695; color: white' title='NLL: 0.017'>:</span><span style='padding: 2px 4px; margin: 2px; display: inline-block; background-color: #7fb6d6; color: black' title='NLL: 2.656'> December</span><span style='padding: 2px 4px; margin: 2px; display: inline-block; background-color: #313695; color: white' title='NLL: 0.000'> </span><span style='padding: 2px 4px; margin: 2px; display: inline-block; background-color: #6ba2cb; color: black' title='NLL: 2.172'>202</span><span style='padding: 2px 4px; margin: 2px; display: inline-block; background-color: #fbfdc7; color: black' title='NLL: 5.875'>3</span><span style='padding: 2px 4px; margin: 2px; display: inline-block; background-color: #3e60aa; color: white' title='NLL: 0.828'>\n",
       "</span><span style='padding: 2px 4px; margin: 2px; display: inline-block; background-color: #f57547; color: black' title='NLL: 9.500'>Today</span><span style='padding: 2px 4px; margin: 2px; display: inline-block; background-color: #fed283; color: black' title='NLL: 7.594'> Date</span><span style='padding: 2px 4px; margin: 2px; display: inline-block; background-color: #313695; color: white' title='NLL: 0.000'>:</span><span style='padding: 2px 4px; margin: 2px; display: inline-block; background-color: #313695; color: white' title='NLL: 0.024'> </span><span style='padding: 2px 4px; margin: 2px; display: inline-block; background-color: #c1e4ef; color: black' title='NLL: 4.125'>26</span><span style='padding: 2px 4px; margin: 2px; display: inline-block; background-color: #fdb769; color: black' title='NLL: 8.250'> Jul</span><span style='padding: 2px 4px; margin: 2px; display: inline-block; background-color: #323896; color: white' title='NLL: 0.071'> </span><span style='padding: 2px 4px; margin: 2px; display: inline-block; background-color: #323896; color: white' title='NLL: 0.065'>202</span><span style='padding: 2px 4px; margin: 2px; display: inline-block; background-color: #416aaf; color: white' title='NLL: 0.992'>4</span><span style='padding: 2px 4px; margin: 2px; display: inline-block; background-color: #374a9f; color: white' title='NLL: 0.383'>\n",
       "\n",
       "</span><span style='padding: 2px 4px; margin: 2px; display: inline-block; background-color: #fee79b; color: black' title='NLL: 6.969'>You</span><span style='padding: 2px 4px; margin: 2px; display: inline-block; background-color: #679ec9; color: black' title='NLL: 2.109'> are</span><span style='padding: 2px 4px; margin: 2px; display: inline-block; background-color: #7fb6d6; color: black' title='NLL: 2.688'> an</span><span style='padding: 2px 4px; margin: 2px; display: inline-block; background-color: #4b7db8; color: white' title='NLL: 1.375'> AI</span><span style='padding: 2px 4px; margin: 2px; display: inline-block; background-color: #7db4d5; color: black' title='NLL: 2.609'> assistant</span><span style='padding: 2px 4px; margin: 2px; display: inline-block; background-color: #394fa1; color: white' title='NLL: 0.475'>.</span><span style='padding: 2px 4px; margin: 2px; display: inline-block; background-color: #aad8e9; color: black' title='NLL: 3.609'><|eot_id|></span><span style='padding: 2px 4px; margin: 2px; display: inline-block; background-color: #313695; color: white' title='NLL: 0.000'><|start_header_id|></span><span style='padding: 2px 4px; margin: 2px; display: inline-block; background-color: #a50026; color: white' title='NLL: 39.000'>user</span><span style='padding: 2px 4px; margin: 2px; display: inline-block; background-color: #588cc0; color: black' title='NLL: 1.734'><|end_header_id|></span><span style='padding: 2px 4px; margin: 2px; display: inline-block; background-color: #5c90c2; color: black' title='NLL: 1.805'>\n",
       "\n",
       "</span><span style='padding: 2px 4px; margin: 2px; display: inline-block; background-color: #4065ac; color: white' title='NLL: 0.902'>What</span><span style='padding: 2px 4px; margin: 2px; display: inline-block; background-color: #3d5ba7; color: white' title='NLL: 0.750'> is</span><span style='padding: 2px 4px; margin: 2px; display: inline-block; background-color: #3c59a6; color: white' title='NLL: 0.676'> the</span><span style='padding: 2px 4px; margin: 2px; display: inline-block; background-color: #def2f7; color: black' title='NLL: 4.781'> capital</span><span style='padding: 2px 4px; margin: 2px; display: inline-block; background-color: #323896; color: white' title='NLL: 0.088'> of</span><span style='padding: 2px 4px; margin: 2px; display: inline-block; background-color: #3e5ea8; color: white' title='NLL: 0.766'> France</span><span style='padding: 2px 4px; margin: 2px; display: inline-block; background-color: #323896; color: white' title='NLL: 0.061'>?</span><span style='padding: 2px 4px; margin: 2px; display: inline-block; background-color: #5a8ec1; color: black' title='NLL: 1.773'><|eot_id|></span><span style='padding: 2px 4px; margin: 2px; display: inline-block; background-color: #313695; color: white' title='NLL: -0.000'><|start_header_id|></span><span style='padding: 2px 4px; margin: 2px; display: inline-block; background-color: #313695; color: white' title='NLL: -0.000'>assistant</span><span style='padding: 2px 4px; margin: 2px; display: inline-block; background-color: #313695; color: white' title='NLL: 0.000'><|end_header_id|></span><span style='padding: 2px 4px; margin: 2px; display: inline-block; background-color: #313695; color: white' title='NLL: 0.000'>\n",
       "\n",
       "</span><span style='padding: 2px 4px; margin: 2px; display: inline-block; background-color: #fdb164; color: black' title='NLL: 8.375'>Paris</span><span style='padding: 2px 4px; margin: 2px; display: inline-block; background-color: #cbe9f2; color: black' title='NLL: 4.375'>.</span><span style='padding: 2px 4px; margin: 2px; display: inline-block; background-color: #333b97; color: white' title='NLL: 0.104'><|eot_id|></span><span style='padding: 2px 4px; margin: 2px; display: inline-block; background-color: #313695; color: white' title='NLL: 0.000'><|start_header_id|></span><span style='padding: 2px 4px; margin: 2px; display: inline-block; background-color: #a50026; color: white' title='NLL: 36.500'>user</span><span style='padding: 2px 4px; margin: 2px; display: inline-block; background-color: #5e93c3; color: black' title='NLL: 1.875'><|end_header_id|></span><span style='padding: 2px 4px; margin: 2px; display: inline-block; background-color: #f8864f; color: black' title='NLL: 9.188'>\n",
       "\n",
       "</span><span style='padding: 2px 4px; margin: 2px; display: inline-block; background-color: #3b56a5; color: white' title='NLL: 0.656'>What</span><span style='padding: 2px 4px; margin: 2px; display: inline-block; background-color: #c7e7f1; color: black' title='NLL: 4.281'> do</span><span style='padding: 2px 4px; margin: 2px; display: inline-block; background-color: #9bcce2; color: black' title='NLL: 3.281'> people</span><span style='padding: 2px 4px; margin: 2px; display: inline-block; background-color: #f5fbd2; color: black' title='NLL: 5.656'> like</span><span style='padding: 2px 4px; margin: 2px; display: inline-block; background-color: #34409a; color: white' title='NLL: 0.190'> to</span><span style='padding: 2px 4px; margin: 2px; display: inline-block; background-color: #83b9d8; color: black' title='NLL: 2.750'> eat</span><span style='padding: 2px 4px; margin: 2px; display: inline-block; background-color: #feffc0; color: black' title='NLL: 6.031'> there</span><span style='padding: 2px 4px; margin: 2px; display: inline-block; background-color: #3b56a5; color: white' title='NLL: 0.652'>?</span><span style='padding: 2px 4px; margin: 2px; display: inline-block; background-color: #c3e5f0; color: black' title='NLL: 4.156'><|eot_id|></span><span style='padding: 2px 4px; margin: 2px; display: inline-block; background-color: #313695; color: white' title='NLL: -0.000'><|start_header_id|></span><span style='padding: 2px 4px; margin: 2px; display: inline-block; background-color: #313695; color: white' title='NLL: -0.000'>assistant</span><span style='padding: 2px 4px; margin: 2px; display: inline-block; background-color: #313695; color: white' title='NLL: 0.000'><|end_header_id|></span><span style='padding: 2px 4px; margin: 2px; display: inline-block; background-color: #313695; color: white' title='NLL: -0.000'>\n",
       "\n",
       "</span><span style='padding: 2px 4px; margin: 2px; display: inline-block; background-color: #9dcee3; color: black' title='NLL: 3.344'>People</span><span style='padding: 2px 4px; margin: 2px; display: inline-block; background-color: #313695; color: white' title='NLL: 0.014'> in</span><span style='padding: 2px 4px; margin: 2px; display: inline-block; background-color: #69a0ca; color: black' title='NLL: 2.125'> Paris</span><span style='padding: 2px 4px; margin: 2px; display: inline-block; background-color: #c62027; color: white' title='NLL: 11.250'> like</span><span style='padding: 2px 4px; margin: 2px; display: inline-block; background-color: #313695; color: white' title='NLL: 0.000'> to</span><span style='padding: 2px 4px; margin: 2px; display: inline-block; background-color: #313695; color: white' title='NLL: 0.019'> eat</span><span style='padding: 2px 4px; margin: 2px; display: inline-block; background-color: #f16640; color: black' title='NLL: 9.812'> cro</span><span style='padding: 2px 4px; margin: 2px; display: inline-block; background-color: #313695; color: white' title='NLL: 0.001'>iss</span><span style='padding: 2px 4px; margin: 2px; display: inline-block; background-color: #313695; color: white' title='NLL: 0.000'>ants</span><span style='padding: 2px 4px; margin: 2px; display: inline-block; background-color: #f6fbd0; color: black' title='NLL: 5.688'> and</span><span style='padding: 2px 4px; margin: 2px; display: inline-block; background-color: #4b7db8; color: white' title='NLL: 1.406'> bag</span><span style='padding: 2px 4px; margin: 2px; display: inline-block; background-color: #313695; color: white' title='NLL: 0.004'>uet</span><span style='padding: 2px 4px; margin: 2px; display: inline-block; background-color: #313695; color: white' title='NLL: 0.000'>tes</span><span style='padding: 2px 4px; margin: 2px; display: inline-block; background-color: #92c5de; color: black' title='NLL: 3.109'>.</span><span style='padding: 2px 4px; margin: 2px; display: inline-block; background-color: #fba05b; color: black' title='NLL: 8.688'><|eot_id|></span>"
      ],
      "text/plain": [
       "<IPython.core.display.HTML object>"
      ]
     },
     "metadata": {},
     "output_type": "display_data"
    }
   ],
   "source": [
    "visualize_token_nlls(tokens[0].cpu(), per_token_nlls[0].cpu().float(), tokenizer)"
   ]
  },
  {
   "cell_type": "code",
   "execution_count": 62,
   "metadata": {},
   "outputs": [],
   "source": [
    "# [tokenizer.decode(t) for t in tokens[0].cpu()]"
   ]
  },
  {
   "cell_type": "code",
   "execution_count": 58,
   "metadata": {},
   "outputs": [],
   "source": [
    "def get_role_nlls(model, tokens, tokenizer):\n",
    "    nlls = get_per_token_nlls(model, tokens)[0].cpu().float()\n",
    "    tokens = tokens[0].cpu()[1:]  # remove SOS token which doesn't have an associated NLL\n",
    "    token_strings = [tokenizer.decode(t.item()) for t in tokens]\n",
    "    \n",
    "    results = []\n",
    "    current_role = None\n",
    "    current_nll_sum = 0\n",
    "    current_token_count = 0\n",
    "    role_started = False\n",
    "    string = \"\"\n",
    "    \n",
    "    i = 0\n",
    "    for i, (detok, nll) in enumerate(zip(token_strings, nlls, strict=True)):\n",
    "        if detok == \"<|start_header_id|>\":\n",
    "            if current_role is not None:\n",
    "                results.append({\n",
    "                    \"role\": current_role,\n",
    "                    \"nll\": current_nll_sum.item(),\n",
    "                    \"token_count\": current_token_count,\n",
    "                    \"string\": string\n",
    "                })\n",
    "            current_role = token_strings[i + 1]\n",
    "            current_nll_sum = 0\n",
    "            current_token_count = 0\n",
    "            role_started = False\n",
    "            string = \"\"\n",
    "        elif detok == \"<|end_header_id|>\":\n",
    "            role_started = True\n",
    "        elif detok[:2] == \"<|\":\n",
    "            # ignore other special tokens\n",
    "            continue\n",
    "        elif set(t for t in detok) == {\"\\n\"}:\n",
    "            # ignore newline tokens\n",
    "            continue\n",
    "        elif role_started:\n",
    "            current_nll_sum += nll\n",
    "            current_token_count += 1\n",
    "            string += detok\n",
    "    if current_role is not None:\n",
    "        results.append({\n",
    "            \"role\": current_role,\n",
    "            \"nll\": current_nll_sum.item(),\n",
    "            \"token_count\": current_token_count,\n",
    "            \"string\": string\n",
    "        })\n",
    "    return results"
   ]
  },
  {
   "cell_type": "code",
   "execution_count": 63,
   "metadata": {},
   "outputs": [
    {
     "data": {
      "text/plain": [
       "[{'role': 'system',\n",
       "  'nll': 86.41875457763672,\n",
       "  'token_count': 24,\n",
       "  'string': 'Cutting Knowledge Date: December 2023Today Date: 26 Jul 2024You are an AI assistant.'},\n",
       " {'role': 'user',\n",
       "  'nll': 8.023681640625,\n",
       "  'token_count': 7,\n",
       "  'string': 'What is the capital of France?'},\n",
       " {'role': 'assistant', 'nll': 12.75, 'token_count': 2, 'string': 'Paris.'},\n",
       " {'role': 'user',\n",
       "  'nll': 23.4990234375,\n",
       "  'token_count': 8,\n",
       "  'string': 'What do people like to eat there?'},\n",
       " {'role': 'assistant',\n",
       "  'nll': 36.773094177246094,\n",
       "  'token_count': 14,\n",
       "  'string': 'People in Paris like to eat croissants and baguettes.'}]"
      ]
     },
     "execution_count": 63,
     "metadata": {},
     "output_type": "execute_result"
    }
   ],
   "source": [
    "role_nlls = get_role_nlls(model, tokens, tokenizer)\n",
    "role_nlls"
   ]
  },
  {
   "cell_type": "code",
   "execution_count": null,
   "metadata": {},
   "outputs": [],
   "source": []
  }
 ],
 "metadata": {
  "kernelspec": {
   "display_name": "venv",
   "language": "python",
   "name": "python3"
  },
  "language_info": {
   "codemirror_mode": {
    "name": "ipython",
    "version": 3
   },
   "file_extension": ".py",
   "mimetype": "text/x-python",
   "name": "python",
   "nbconvert_exporter": "python",
   "pygments_lexer": "ipython3",
   "version": "3.10.13"
  }
 },
 "nbformat": 4,
 "nbformat_minor": 2
}

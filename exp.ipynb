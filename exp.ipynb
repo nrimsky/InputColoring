{
 "cells": [
  {
   "cell_type": "code",
   "execution_count": 3,
   "metadata": {},
   "outputs": [],
   "source": [
    "from transformers import AutoTokenizer\n",
    "import torch\n",
    "import os\n",
    "from dotenv import load_dotenv\n",
    "import matplotlib.pyplot as plt\n",
    "import numpy as np\n",
    "import json\n",
    "from model_wrapper import ModelWrapper, InterventionSettings, Intervention\n",
    "from utils import format_conversation\n",
    "from viz import visualize_token_nlls\n",
    "from collections import defaultdict\n",
    "from tqdm import tqdm"
   ]
  },
  {
   "cell_type": "code",
   "execution_count": 4,
   "metadata": {},
   "outputs": [],
   "source": [
    "load_dotenv()\n",
    "\n",
    "HUGGINGFACE_TOKEN = os.getenv(\"HF_TOKEN\")"
   ]
  },
  {
   "cell_type": "code",
   "execution_count": 5,
   "metadata": {},
   "outputs": [],
   "source": [
    "MODEL_LLAMA_3_CHAT = \"meta-llama/Meta-Llama-3.1-8B-Instruct\""
   ]
  },
  {
   "cell_type": "code",
   "execution_count": 6,
   "metadata": {},
   "outputs": [],
   "source": [
    "tokenizer = AutoTokenizer.from_pretrained(\n",
    "    MODEL_LLAMA_3_CHAT, token=HUGGINGFACE_TOKEN\n",
    ")"
   ]
  },
  {
   "cell_type": "code",
   "execution_count": 7,
   "metadata": {},
   "outputs": [],
   "source": [
    "tokenizer.pad_token_id = tokenizer.eos_token_id"
   ]
  },
  {
   "cell_type": "code",
   "execution_count": 8,
   "metadata": {},
   "outputs": [
    {
     "name": "stderr",
     "output_type": "stream",
     "text": [
      "Loading checkpoint shards: 100%|██████████| 4/4 [00:03<00:00,  1.11it/s]\n"
     ]
    }
   ],
   "source": [
    "model = ModelWrapper()"
   ]
  },
  {
   "cell_type": "code",
   "execution_count": 9,
   "metadata": {},
   "outputs": [],
   "source": [
    "model.reset_hooks()"
   ]
  },
  {
   "cell_type": "code",
   "execution_count": 10,
   "metadata": {},
   "outputs": [],
   "source": [
    "messages = [\n",
    "    {\"role\": \"user\", \"content\": \"What is the capital of France?\"},\n",
    "    {\"role\": \"assistant\", \"content\": \"Paris.\"},\n",
    "    {\"role\": \"user\", \"content\": \"What do people like to eat there?\"},\n",
    "    {\"role\": \"assistant\", \"content\": \"People in Paris like to eat croissants and baguettes.\"},\n",
    "    {\"role\": \"user\", \"content\": \"That's interesting. What about the weather? What is it like in the summer?\"},\n",
    "]"
   ]
  },
  {
   "cell_type": "code",
   "execution_count": 11,
   "metadata": {},
   "outputs": [],
   "source": [
    "messages_formatted = format_conversation(messages, tokenizer, add_generation_prompt=True)"
   ]
  },
  {
   "cell_type": "code",
   "execution_count": 12,
   "metadata": {},
   "outputs": [
    {
     "name": "stdout",
     "output_type": "stream",
     "text": [
      "<|start_header_id|>user<|end_header_id|>\n",
      "\n",
      "What is the capital of France?<|eot_id|><|start_header_id|>assistant<|end_header_id|>\n",
      "\n",
      "Paris.<|eot_id|><|start_header_id|>user<|end_header_id|>\n",
      "\n",
      "What do people like to eat there?<|eot_id|><|start_header_id|>assistant<|end_header_id|>\n",
      "\n",
      "People in Paris like to eat croissants and baguettes.<|eot_id|><|start_header_id|>user<|end_header_id|>\n",
      "\n",
      "That's interesting. What about the weather? What is it like in the summer?<|eot_id|><|start_header_id|>assistant<|end_header_id|>\n",
      "\n",
      "\n"
     ]
    }
   ],
   "source": [
    "print(messages_formatted)"
   ]
  },
  {
   "cell_type": "code",
   "execution_count": 13,
   "metadata": {},
   "outputs": [],
   "source": [
    "tokens = tokenizer.encode(messages_formatted, return_tensors=\"pt\")"
   ]
  },
  {
   "cell_type": "code",
   "execution_count": 14,
   "metadata": {},
   "outputs": [
    {
     "name": "stdout",
     "output_type": "stream",
     "text": [
      "<|begin_of_text|><|start_header_id|>user<|end_header_id|>\n",
      "\n",
      "What is the capital of France?<|eot_id|><|start_header_id|>assistant<|end_header_id|>\n",
      "\n",
      "Paris.<|eot_id|><|start_header_id|>user<|end_header_id|>\n",
      "\n",
      "What do people like to eat there?<|eot_id|><|start_header_id|>assistant<|end_header_id|>\n",
      "\n",
      "People in Paris like to eat croissants and baguettes.<|eot_id|><|start_header_id|>user<|end_header_id|>\n",
      "\n",
      "That's interesting. What about the weather? What is it like in the summer?<|eot_id|><|start_header_id|>assistant<|end_header_id|>\n",
      "\n",
      "\n"
     ]
    }
   ],
   "source": [
    "print(tokenizer.decode(tokens[0]))"
   ]
  },
  {
   "cell_type": "code",
   "execution_count": 15,
   "metadata": {},
   "outputs": [],
   "source": [
    "per_token_nlls = model.get_per_token_nlls(tokens)"
   ]
  },
  {
   "cell_type": "code",
   "execution_count": 16,
   "metadata": {},
   "outputs": [
    {
     "data": {
      "text/html": [
       "\n",
       "    <div style='margin-bottom: 10px'>\n",
       "        <span style='font-size: 0.9em'>NLL Range: </span>\n",
       "        <span style='padding: 2px 8px; background-color: #313695; color: white'>Low -0.00</span>\n",
       "        <span style='padding: 2px 8px; background-color: #fffebe'>Med 5.89</span>\n",
       "        <span style='padding: 2px 8px; background-color: #a50026; color: white'>High 11.79</span>\n",
       "    </div>\n",
       "    <span style='padding: 2px 4px; margin: 0 1px; border: 1px dashed #ccc'>128000</span><span style='padding: 2px 4px; margin: 2px; display: inline-block; background-color: #b4deec; color: black' title='NLL: 3.734'>&lt;|start_header_id|&gt;</span><span style='padding: 2px 4px; margin: 2px; display: inline-block; background-color: #a50026; color: white' title='NLL: 15.188'>user</span><span style='padding: 2px 4px; margin: 2px; display: inline-block; background-color: #3e5ea8; color: white' title='NLL: 0.758'>&lt;|end_header_id|&gt;</span><span style='padding: 2px 4px; margin: 2px; display: inline-block; background-color: #a50026; color: white' title='NLL: 20.000'>\n",
       "\n",
       "</span><span style='padding: 2px 4px; margin: 2px; display: inline-block; background-color: #9bcce2; color: black' title='NLL: 3.219'>What</span><span style='padding: 2px 4px; margin: 2px; display: inline-block; background-color: #3a51a2; color: white' title='NLL: 0.523'> is</span><span style='padding: 2px 4px; margin: 2px; display: inline-block; background-color: #35429b; color: white' title='NLL: 0.266'> the</span><span style='padding: 2px 4px; margin: 2px; display: inline-block; background-color: #fffdbc; color: black' title='NLL: 5.969'> capital</span><span style='padding: 2px 4px; margin: 2px; display: inline-block; background-color: #323896; color: white' title='NLL: 0.081'> of</span><span style='padding: 2px 4px; margin: 2px; display: inline-block; background-color: #659bc8; color: black' title='NLL: 2.016'> France</span><span style='padding: 2px 4px; margin: 2px; display: inline-block; background-color: #4878b6; color: white' title='NLL: 1.281'>?</span><span style='padding: 2px 4px; margin: 2px; display: inline-block; background-color: #333d99; color: white' title='NLL: 0.166'>&lt;|eot_id|&gt;</span><span style='padding: 2px 4px; margin: 2px; display: inline-block; background-color: #313695; color: white' title='NLL: -0.000'>&lt;|start_header_id|&gt;</span><span style='padding: 2px 4px; margin: 2px; display: inline-block; background-color: #313695; color: white' title='NLL: -0.000'>assistant</span><span style='padding: 2px 4px; margin: 2px; display: inline-block; background-color: #313695; color: white' title='NLL: -0.000'>&lt;|end_header_id|&gt;</span><span style='padding: 2px 4px; margin: 2px; display: inline-block; background-color: #313695; color: white' title='NLL: -0.000'>\n",
       "\n",
       "</span><span style='padding: 2px 4px; margin: 2px; display: inline-block; background-color: #f8fccb; color: black' title='NLL: 5.625'>Paris</span><span style='padding: 2px 4px; margin: 2px; display: inline-block; background-color: #78b0d3; color: black' title='NLL: 2.484'>.</span><span style='padding: 2px 4px; margin: 2px; display: inline-block; background-color: #313695; color: white' title='NLL: 0.008'>&lt;|eot_id|&gt;</span><span style='padding: 2px 4px; margin: 2px; display: inline-block; background-color: #313695; color: white' title='NLL: 0.000'>&lt;|start_header_id|&gt;</span><span style='padding: 2px 4px; margin: 2px; display: inline-block; background-color: #a50026; color: white' title='NLL: 36.000'>user</span><span style='padding: 2px 4px; margin: 2px; display: inline-block; background-color: #69a0ca; color: black' title='NLL: 2.078'>&lt;|end_header_id|&gt;</span><span style='padding: 2px 4px; margin: 2px; display: inline-block; background-color: #b6dfec; color: black' title='NLL: 3.781'>\n",
       "\n",
       "</span><span style='padding: 2px 4px; margin: 2px; display: inline-block; background-color: #426cb0; color: white' title='NLL: 1.047'>What</span><span style='padding: 2px 4px; margin: 2px; display: inline-block; background-color: #c9e8f2; color: black' title='NLL: 4.219'> do</span><span style='padding: 2px 4px; margin: 2px; display: inline-block; background-color: #a3d3e6; color: black' title='NLL: 3.375'> people</span><span style='padding: 2px 4px; margin: 2px; display: inline-block; background-color: #d6eef5; color: black' title='NLL: 4.469'> like</span><span style='padding: 2px 4px; margin: 2px; display: inline-block; background-color: #34409a; color: white' title='NLL: 0.220'> to</span><span style='padding: 2px 4px; margin: 2px; display: inline-block; background-color: #78b0d3; color: black' title='NLL: 2.469'> eat</span><span style='padding: 2px 4px; margin: 2px; display: inline-block; background-color: #fff7b3; color: black' title='NLL: 6.188'> there</span><span style='padding: 2px 4px; margin: 2px; display: inline-block; background-color: #333d99; color: white' title='NLL: 0.176'>?</span><span style='padding: 2px 4px; margin: 2px; display: inline-block; background-color: #69a0ca; color: black' title='NLL: 2.094'>&lt;|eot_id|&gt;</span><span style='padding: 2px 4px; margin: 2px; display: inline-block; background-color: #313695; color: white' title='NLL: -0.000'>&lt;|start_header_id|&gt;</span><span style='padding: 2px 4px; margin: 2px; display: inline-block; background-color: #313695; color: white' title='NLL: -0.000'>assistant</span><span style='padding: 2px 4px; margin: 2px; display: inline-block; background-color: #313695; color: white' title='NLL: 0.000'>&lt;|end_header_id|&gt;</span><span style='padding: 2px 4px; margin: 2px; display: inline-block; background-color: #313695; color: white' title='NLL: 0.000'>\n",
       "\n",
       "</span><span style='padding: 2px 4px; margin: 2px; display: inline-block; background-color: #e0f3f8; color: black' title='NLL: 4.719'>People</span><span style='padding: 2px 4px; margin: 2px; display: inline-block; background-color: #323896; color: white' title='NLL: 0.091'> in</span><span style='padding: 2px 4px; margin: 2px; display: inline-block; background-color: #6297c6; color: black' title='NLL: 1.914'> Paris</span><span style='padding: 2px 4px; margin: 2px; display: inline-block; background-color: #c82227; color: white' title='NLL: 10.938'> like</span><span style='padding: 2px 4px; margin: 2px; display: inline-block; background-color: #313695; color: white' title='NLL: 0.001'> to</span><span style='padding: 2px 4px; margin: 2px; display: inline-block; background-color: #313695; color: white' title='NLL: 0.013'> eat</span><span style='padding: 2px 4px; margin: 2px; display: inline-block; background-color: #feda8a; color: black' title='NLL: 7.188'> cro</span><span style='padding: 2px 4px; margin: 2px; display: inline-block; background-color: #313695; color: white' title='NLL: 0.001'>iss</span><span style='padding: 2px 4px; margin: 2px; display: inline-block; background-color: #313695; color: white' title='NLL: 0.000'>ants</span><span style='padding: 2px 4px; margin: 2px; display: inline-block; background-color: #fffebe; color: black' title='NLL: 5.906'> and</span><span style='padding: 2px 4px; margin: 2px; display: inline-block; background-color: #3c59a6; color: white' title='NLL: 0.660'> bag</span><span style='padding: 2px 4px; margin: 2px; display: inline-block; background-color: #313695; color: white' title='NLL: 0.006'>uet</span><span style='padding: 2px 4px; margin: 2px; display: inline-block; background-color: #313695; color: white' title='NLL: 0.000'>tes</span><span style='padding: 2px 4px; margin: 2px; display: inline-block; background-color: #94c7df; color: black' title='NLL: 3.047'>.</span><span style='padding: 2px 4px; margin: 2px; display: inline-block; background-color: #6095c4; color: black' title='NLL: 1.859'>&lt;|eot_id|&gt;</span><span style='padding: 2px 4px; margin: 2px; display: inline-block; background-color: #313695; color: white' title='NLL: 0.000'>&lt;|start_header_id|&gt;</span><span style='padding: 2px 4px; margin: 2px; display: inline-block; background-color: #a50026; color: white' title='NLL: 37.000'>user</span><span style='padding: 2px 4px; margin: 2px; display: inline-block; background-color: #fff8b5; color: black' title='NLL: 6.125'>&lt;|end_header_id|&gt;</span><span style='padding: 2px 4px; margin: 2px; display: inline-block; background-color: #8ec2dc; color: black' title='NLL: 2.938'>\n",
       "\n",
       "</span><span style='padding: 2px 4px; margin: 2px; display: inline-block; background-color: #fff5af; color: black' title='NLL: 6.281'>That</span><span style='padding: 2px 4px; margin: 2px; display: inline-block; background-color: #313695; color: white' title='NLL: 0.012'>&#x27;s</span><span style='padding: 2px 4px; margin: 2px; display: inline-block; background-color: #f67c4a; color: black' title='NLL: 9.125'> interesting</span><span style='padding: 2px 4px; margin: 2px; display: inline-block; background-color: #3e5ea8; color: white' title='NLL: 0.758'>.</span><span style='padding: 2px 4px; margin: 2px; display: inline-block; background-color: #5183bb; color: white' title='NLL: 1.477'> What</span><span style='padding: 2px 4px; margin: 2px; display: inline-block; background-color: #4471b2; color: white' title='NLL: 1.109'> about</span><span style='padding: 2px 4px; margin: 2px; display: inline-block; background-color: #aedbea; color: black' title='NLL: 3.609'> the</span><span style='padding: 2px 4px; margin: 2px; display: inline-block; background-color: #e44c34; color: white' title='NLL: 10.062'> weather</span><span style='padding: 2px 4px; margin: 2px; display: inline-block; background-color: #36479e; color: white' title='NLL: 0.352'>?</span><span style='padding: 2px 4px; margin: 2px; display: inline-block; background-color: #78b0d3; color: black' title='NLL: 2.453'> What</span><span style='padding: 2px 4px; margin: 2px; display: inline-block; background-color: #5183bb; color: white' title='NLL: 1.516'> is</span><span style='padding: 2px 4px; margin: 2px; display: inline-block; background-color: #4574b3; color: white' title='NLL: 1.188'> it</span><span style='padding: 2px 4px; margin: 2px; display: inline-block; background-color: #36479e; color: white' title='NLL: 0.346'> like</span><span style='padding: 2px 4px; margin: 2px; display: inline-block; background-color: #35429b; color: white' title='NLL: 0.235'> in</span><span style='padding: 2px 4px; margin: 2px; display: inline-block; background-color: #def2f7; color: black' title='NLL: 4.656'> the</span><span style='padding: 2px 4px; margin: 2px; display: inline-block; background-color: #bfe3ef; color: black' title='NLL: 4.000'> summer</span><span style='padding: 2px 4px; margin: 2px; display: inline-block; background-color: #36479e; color: white' title='NLL: 0.338'>?</span><span style='padding: 2px 4px; margin: 2px; display: inline-block; background-color: #7db4d5; color: black' title='NLL: 2.578'>&lt;|eot_id|&gt;</span><span style='padding: 2px 4px; margin: 2px; display: inline-block; background-color: #313695; color: white' title='NLL: -0.000'>&lt;|start_header_id|&gt;</span><span style='padding: 2px 4px; margin: 2px; display: inline-block; background-color: #313695; color: white' title='NLL: -0.000'>assistant</span><span style='padding: 2px 4px; margin: 2px; display: inline-block; background-color: #313695; color: white' title='NLL: 0.000'>&lt;|end_header_id|&gt;</span><span style='padding: 2px 4px; margin: 2px; display: inline-block; background-color: #313695; color: white' title='NLL: -0.000'>\n",
       "\n",
       "</span>"
      ],
      "text/plain": [
       "<IPython.core.display.HTML object>"
      ]
     },
     "metadata": {},
     "output_type": "display_data"
    }
   ],
   "source": [
    "visualize_token_nlls(tokens[0].cpu(), per_token_nlls[0].cpu().float(), tokenizer)"
   ]
  },
  {
   "cell_type": "code",
   "execution_count": 17,
   "metadata": {},
   "outputs": [],
   "source": [
    "role_nlls = model.get_role_nlls(tokens)"
   ]
  },
  {
   "cell_type": "code",
   "execution_count": 18,
   "metadata": {},
   "outputs": [
    {
     "name": "stdout",
     "output_type": "stream",
     "text": [
      "user (NLL=33.5): '\\n\\nWhat is the capital of France?'\n",
      "assistant (NLL=8.125): '\\n\\nParis.'\n",
      "user (NLL=25.875): '\\n\\nWhat do people like to eat there?'\n",
      "assistant (NLL=34.25): '\\n\\nPeople in Paris like to eat croissants and baguettes.'\n",
      "user (NLL=50.5): '\\n\\nThat's interesting. What about the weather? What is it like in the summer?'\n",
      "assistant (NLL=0.0): '\\n\\n'\n"
     ]
    }
   ],
   "source": [
    "for item in role_nlls:\n",
    "    token_str = tokenizer.decode(item['tokens']).replace('\\n', '\\\\n')\n",
    "    print(f\"{tokenizer.decode(item['role'])} (NLL={item['nll']}): '{token_str}'\")"
   ]
  },
  {
   "cell_type": "code",
   "execution_count": 19,
   "metadata": {},
   "outputs": [
    {
     "name": "stderr",
     "output_type": "stream",
     "text": [
      "Setting `pad_token_id` to `eos_token_id`:128001 for open-end generation.\n"
     ]
    }
   ],
   "source": [
    "generation = model.sample(tokens.to(model.device), max_n_tokens=500)"
   ]
  },
  {
   "cell_type": "code",
   "execution_count": 20,
   "metadata": {},
   "outputs": [
    {
     "name": "stdout",
     "output_type": "stream",
     "text": [
      "<|begin_of_text|><|start_header_id|>user<|end_header_id|>\n",
      "\n",
      "What is the capital of France?<|eot_id|><|start_header_id|>assistant<|end_header_id|>\n",
      "\n",
      "Paris.<|eot_id|><|start_header_id|>user<|end_header_id|>\n",
      "\n",
      "What do people like to eat there?<|eot_id|><|start_header_id|>assistant<|end_header_id|>\n",
      "\n",
      "People in Paris like to eat croissants and baguettes.<|eot_id|><|start_header_id|>user<|end_header_id|>\n",
      "\n",
      "That's interesting. What about the weather? What is it like in the summer?<|eot_id|><|start_header_id|>assistant<|end_header_id|>\n",
      "\n",
      "The weather in Paris can be quite pleasant in the summer. It's usually mild and warm, with average high temperatures ranging from 22-25°C (72-77°F) from June to August. However, it's not uncommon to experience occasional heatwaves, and the city can get quite crowded during the peak tourist season.<|eot_id|>\n"
     ]
    }
   ],
   "source": [
    "print(tokenizer.decode(generation[0]))"
   ]
  },
  {
   "cell_type": "code",
   "execution_count": 21,
   "metadata": {},
   "outputs": [],
   "source": [
    "assistant_token_embedding = model.assistant_token_embedding\n",
    "user_token_embedding = model.user_token_embedding"
   ]
  },
  {
   "cell_type": "code",
   "execution_count": 79,
   "metadata": {},
   "outputs": [],
   "source": [
    "intervention = InterventionSettings(\n",
    "    intervention=Intervention.STEER_AT_LAYER,\n",
    "    user_vector=user_token_embedding,\n",
    "    assistant_vector=assistant_token_embedding,\n",
    "    layer=10\n",
    ")"
   ]
  },
  {
   "cell_type": "code",
   "execution_count": 80,
   "metadata": {},
   "outputs": [],
   "source": [
    "model.set_intervention(intervention)"
   ]
  },
  {
   "cell_type": "code",
   "execution_count": 84,
   "metadata": {},
   "outputs": [
    {
     "data": {
      "text/plain": [
       "[<torch.utils.hooks.RemovableHandle at 0x7fbecce6e830>,\n",
       " <torch.utils.hooks.RemovableHandle at 0x7fbef3fa8a30>,\n",
       " <torch.utils.hooks.RemovableHandle at 0x7fbecc1f0fa0>]"
      ]
     },
     "execution_count": 84,
     "metadata": {},
     "output_type": "execute_result"
    }
   ],
   "source": [
    "model.hooks"
   ]
  },
  {
   "cell_type": "code",
   "execution_count": 82,
   "metadata": {},
   "outputs": [
    {
     "name": "stderr",
     "output_type": "stream",
     "text": [
      "Setting `pad_token_id` to `eos_token_id`:128001 for open-end generation.\n"
     ]
    },
    {
     "name": "stdout",
     "output_type": "stream",
     "text": [
      "<|begin_of_text|><|start_header_id|>user<|end_header_id|>\n",
      "\n",
      "What is the capital of France?<|eot_id|><|start_header_id|>assistant<|end_header_id|>\n",
      "\n",
      "Paris.<|eot_id|><|start_header_id|>user<|end_header_id|>\n",
      "\n",
      "What do people like to eat there?<|eot_id|><|start_header_id|>assistant<|end_header_id|>\n",
      "\n",
      "People in Paris like to eat croissants and baguettes.<|eot_id|><|start_header_id|>user<|end_header_id|>\n",
      "\n",
      "That's interesting. What about the weather? What is it like in the summer?<|eot_id|><|start_header_id|>assistant<|end_header_id|>\n",
      "\n",
      "The weather in Paris can be quite pleasant in the summer. It's usually mild and warm, with average high temperatures ranging from 22-25°C (72-77°F) from June to August. However, it's not uncommon to experience occasional heatwaves, and the city can get quite crowded and humid during the peak tourist season. But overall, the summer weather in Paris is lovely, with plenty of sunshine and long days.<|eot_id|>\n"
     ]
    }
   ],
   "source": [
    "generation = model.sample(tokens.to(model.device), max_n_tokens=250)\n",
    "print(tokenizer.decode(generation[0]))"
   ]
  },
  {
   "cell_type": "code",
   "execution_count": 83,
   "metadata": {},
   "outputs": [
    {
     "data": {
      "text/html": [
       "\n",
       "    <div style='margin-bottom: 10px'>\n",
       "        <span style='font-size: 0.9em'>NLL Range: </span>\n",
       "        <span style='padding: 2px 8px; background-color: #313695; color: white'>Low -0.00</span>\n",
       "        <span style='padding: 2px 8px; background-color: #fffebe'>Med 5.83</span>\n",
       "        <span style='padding: 2px 8px; background-color: #a50026; color: white'>High 11.65</span>\n",
       "    </div>\n",
       "    <span style='padding: 2px 4px; margin: 0 1px; border: 1px dashed #ccc'>128000</span><span style='padding: 2px 4px; margin: 2px; display: inline-block; background-color: #b6dfec; color: black' title='NLL: 3.734'>&lt;|start_header_id|&gt;</span><span style='padding: 2px 4px; margin: 2px; display: inline-block; background-color: #a50026; color: white' title='NLL: 14.500'>user</span><span style='padding: 2px 4px; margin: 2px; display: inline-block; background-color: #3d5ba7; color: white' title='NLL: 0.695'>&lt;|end_header_id|&gt;</span><span style='padding: 2px 4px; margin: 2px; display: inline-block; background-color: #a50026; color: white' title='NLL: 19.500'>\n",
       "\n",
       "</span><span style='padding: 2px 4px; margin: 2px; display: inline-block; background-color: #9bcce2; color: black' title='NLL: 3.172'>What</span><span style='padding: 2px 4px; margin: 2px; display: inline-block; background-color: #3a51a2; color: white' title='NLL: 0.508'> is</span><span style='padding: 2px 4px; margin: 2px; display: inline-block; background-color: #36459c; color: white' title='NLL: 0.273'> the</span><span style='padding: 2px 4px; margin: 2px; display: inline-block; background-color: #feffc0; color: black' title='NLL: 5.781'> capital</span><span style='padding: 2px 4px; margin: 2px; display: inline-block; background-color: #323896; color: white' title='NLL: 0.081'> of</span><span style='padding: 2px 4px; margin: 2px; display: inline-block; background-color: #659bc8; color: black' title='NLL: 1.992'> France</span><span style='padding: 2px 4px; margin: 2px; display: inline-block; background-color: #426cb0; color: white' title='NLL: 1.031'>?</span><span style='padding: 2px 4px; margin: 2px; display: inline-block; background-color: #333d99; color: white' title='NLL: 0.171'>&lt;|eot_id|&gt;</span><span style='padding: 2px 4px; margin: 2px; display: inline-block; background-color: #313695; color: white' title='NLL: -0.000'>&lt;|start_header_id|&gt;</span><span style='padding: 2px 4px; margin: 2px; display: inline-block; background-color: #313695; color: white' title='NLL: -0.000'>assistant</span><span style='padding: 2px 4px; margin: 2px; display: inline-block; background-color: #313695; color: white' title='NLL: -0.000'>&lt;|end_header_id|&gt;</span><span style='padding: 2px 4px; margin: 2px; display: inline-block; background-color: #313695; color: white' title='NLL: -0.000'>\n",
       "\n",
       "</span><span style='padding: 2px 4px; margin: 2px; display: inline-block; background-color: #fafdc9; color: black' title='NLL: 5.625'>Paris</span><span style='padding: 2px 4px; margin: 2px; display: inline-block; background-color: #70a9cf; color: black' title='NLL: 2.266'>.</span><span style='padding: 2px 4px; margin: 2px; display: inline-block; background-color: #313695; color: white' title='NLL: 0.008'>&lt;|eot_id|&gt;</span><span style='padding: 2px 4px; margin: 2px; display: inline-block; background-color: #313695; color: white' title='NLL: 0.000'>&lt;|start_header_id|&gt;</span><span style='padding: 2px 4px; margin: 2px; display: inline-block; background-color: #a50026; color: white' title='NLL: 36.500'>user</span><span style='padding: 2px 4px; margin: 2px; display: inline-block; background-color: #5183bb; color: white' title='NLL: 1.500'>&lt;|end_header_id|&gt;</span><span style='padding: 2px 4px; margin: 2px; display: inline-block; background-color: #acdae9; color: black' title='NLL: 3.531'>\n",
       "\n",
       "</span><span style='padding: 2px 4px; margin: 2px; display: inline-block; background-color: #416aaf; color: white' title='NLL: 0.988'>What</span><span style='padding: 2px 4px; margin: 2px; display: inline-block; background-color: #d1ecf4; color: black' title='NLL: 4.344'> do</span><span style='padding: 2px 4px; margin: 2px; display: inline-block; background-color: #a6d5e7; color: black' title='NLL: 3.391'> people</span><span style='padding: 2px 4px; margin: 2px; display: inline-block; background-color: #d4edf4; color: black' title='NLL: 4.406'> like</span><span style='padding: 2px 4px; margin: 2px; display: inline-block; background-color: #35429b; color: white' title='NLL: 0.245'> to</span><span style='padding: 2px 4px; margin: 2px; display: inline-block; background-color: #70a9cf; color: black' title='NLL: 2.266'> eat</span><span style='padding: 2px 4px; margin: 2px; display: inline-block; background-color: #fffab7; color: black' title='NLL: 6.031'> there</span><span style='padding: 2px 4px; margin: 2px; display: inline-block; background-color: #34409a; color: white' title='NLL: 0.189'>?</span><span style='padding: 2px 4px; margin: 2px; display: inline-block; background-color: #6ea6ce; color: black' title='NLL: 2.203'>&lt;|eot_id|&gt;</span><span style='padding: 2px 4px; margin: 2px; display: inline-block; background-color: #313695; color: white' title='NLL: -0.000'>&lt;|start_header_id|&gt;</span><span style='padding: 2px 4px; margin: 2px; display: inline-block; background-color: #313695; color: white' title='NLL: -0.000'>assistant</span><span style='padding: 2px 4px; margin: 2px; display: inline-block; background-color: #313695; color: white' title='NLL: 0.000'>&lt;|end_header_id|&gt;</span><span style='padding: 2px 4px; margin: 2px; display: inline-block; background-color: #313695; color: white' title='NLL: 0.000'>\n",
       "\n",
       "</span><span style='padding: 2px 4px; margin: 2px; display: inline-block; background-color: #dcf1f7; color: black' title='NLL: 4.594'>People</span><span style='padding: 2px 4px; margin: 2px; display: inline-block; background-color: #323896; color: white' title='NLL: 0.078'> in</span><span style='padding: 2px 4px; margin: 2px; display: inline-block; background-color: #679ec9; color: black' title='NLL: 2.016'> Paris</span><span style='padding: 2px 4px; margin: 2px; display: inline-block; background-color: #c21c27; color: white' title='NLL: 10.938'> like</span><span style='padding: 2px 4px; margin: 2px; display: inline-block; background-color: #313695; color: white' title='NLL: 0.001'> to</span><span style='padding: 2px 4px; margin: 2px; display: inline-block; background-color: #313695; color: white' title='NLL: 0.014'> eat</span><span style='padding: 2px 4px; margin: 2px; display: inline-block; background-color: #fedc8c; color: black' title='NLL: 7.062'> cro</span><span style='padding: 2px 4px; margin: 2px; display: inline-block; background-color: #313695; color: white' title='NLL: 0.001'>iss</span><span style='padding: 2px 4px; margin: 2px; display: inline-block; background-color: #313695; color: white' title='NLL: 0.000'>ants</span><span style='padding: 2px 4px; margin: 2px; display: inline-block; background-color: #fbfdc7; color: black' title='NLL: 5.656'> and</span><span style='padding: 2px 4px; margin: 2px; display: inline-block; background-color: #3c59a6; color: white' title='NLL: 0.656'> bag</span><span style='padding: 2px 4px; margin: 2px; display: inline-block; background-color: #313695; color: white' title='NLL: 0.007'>uet</span><span style='padding: 2px 4px; margin: 2px; display: inline-block; background-color: #313695; color: white' title='NLL: 0.000'>tes</span><span style='padding: 2px 4px; margin: 2px; display: inline-block; background-color: #90c3dd; color: black' title='NLL: 2.938'>.</span><span style='padding: 2px 4px; margin: 2px; display: inline-block; background-color: #5c90c2; color: black' title='NLL: 1.750'>&lt;|eot_id|&gt;</span><span style='padding: 2px 4px; margin: 2px; display: inline-block; background-color: #313695; color: white' title='NLL: -0.000'>&lt;|start_header_id|&gt;</span><span style='padding: 2px 4px; margin: 2px; display: inline-block; background-color: #a50026; color: white' title='NLL: 37.250'>user</span><span style='padding: 2px 4px; margin: 2px; display: inline-block; background-color: #fffdbc; color: black' title='NLL: 5.875'>&lt;|end_header_id|&gt;</span><span style='padding: 2px 4px; margin: 2px; display: inline-block; background-color: #acdae9; color: black' title='NLL: 3.531'>\n",
       "\n",
       "</span><span style='padding: 2px 4px; margin: 2px; display: inline-block; background-color: #fff0a8; color: black' title='NLL: 6.375'>That</span><span style='padding: 2px 4px; margin: 2px; display: inline-block; background-color: #313695; color: white' title='NLL: 0.015'>&#x27;s</span><span style='padding: 2px 4px; margin: 2px; display: inline-block; background-color: #f67f4b; color: black' title='NLL: 9.000'> interesting</span><span style='padding: 2px 4px; margin: 2px; display: inline-block; background-color: #3c59a6; color: white' title='NLL: 0.641'>.</span><span style='padding: 2px 4px; margin: 2px; display: inline-block; background-color: #4d7fb9; color: white' title='NLL: 1.367'> What</span><span style='padding: 2px 4px; margin: 2px; display: inline-block; background-color: #4676b5; color: white' title='NLL: 1.188'> about</span><span style='padding: 2px 4px; margin: 2px; display: inline-block; background-color: #b4deec; color: black' title='NLL: 3.703'> the</span><span style='padding: 2px 4px; margin: 2px; display: inline-block; background-color: #e34933; color: white' title='NLL: 10.000'> weather</span><span style='padding: 2px 4px; margin: 2px; display: inline-block; background-color: #36479e; color: white' title='NLL: 0.324'>?</span><span style='padding: 2px 4px; margin: 2px; display: inline-block; background-color: #7db4d5; color: black' title='NLL: 2.547'> What</span><span style='padding: 2px 4px; margin: 2px; display: inline-block; background-color: #4d7fb9; color: white' title='NLL: 1.383'> is</span><span style='padding: 2px 4px; margin: 2px; display: inline-block; background-color: #4574b3; color: white' title='NLL: 1.180'> it</span><span style='padding: 2px 4px; margin: 2px; display: inline-block; background-color: #374a9f; color: white' title='NLL: 0.369'> like</span><span style='padding: 2px 4px; margin: 2px; display: inline-block; background-color: #34409a; color: white' title='NLL: 0.222'> in</span><span style='padding: 2px 4px; margin: 2px; display: inline-block; background-color: #daf0f6; color: black' title='NLL: 4.531'> the</span><span style='padding: 2px 4px; margin: 2px; display: inline-block; background-color: #a8d6e8; color: black' title='NLL: 3.438'> summer</span><span style='padding: 2px 4px; margin: 2px; display: inline-block; background-color: #36459c; color: white' title='NLL: 0.301'>?</span><span style='padding: 2px 4px; margin: 2px; display: inline-block; background-color: #7fb6d6; color: black' title='NLL: 2.578'>&lt;|eot_id|&gt;</span><span style='padding: 2px 4px; margin: 2px; display: inline-block; background-color: #313695; color: white' title='NLL: -0.000'>&lt;|start_header_id|&gt;</span><span style='padding: 2px 4px; margin: 2px; display: inline-block; background-color: #313695; color: white' title='NLL: -0.000'>assistant</span><span style='padding: 2px 4px; margin: 2px; display: inline-block; background-color: #313695; color: white' title='NLL: 0.000'>&lt;|end_header_id|&gt;</span><span style='padding: 2px 4px; margin: 2px; display: inline-block; background-color: #313695; color: white' title='NLL: -0.000'>\n",
       "\n",
       "</span>"
      ],
      "text/plain": [
       "<IPython.core.display.HTML object>"
      ]
     },
     "metadata": {},
     "output_type": "display_data"
    }
   ],
   "source": [
    "per_token_nlls = model.get_per_token_nlls(tokens)\n",
    "visualize_token_nlls(tokens[0].cpu(), per_token_nlls[0].cpu().float(), tokenizer)"
   ]
  },
  {
   "cell_type": "code",
   "execution_count": 29,
   "metadata": {},
   "outputs": [],
   "source": [
    "def get_msj_nlls(model: ModelWrapper, dataset_path: str, intervention: InterventionSettings | None = None):\n",
    "    with open(dataset_path) as f:\n",
    "        dataset = json.load(f)\n",
    "    result = defaultdict(list)\n",
    "    for row in tqdm(dataset):\n",
    "        tokens = torch.tensor(row[\"tokens\"]).to(model.device)\n",
    "        nlls = model.get_role_nlls(tokens)\n",
    "        result[row['n_shots']].append(nlls)\n",
    "    result_save_path = dataset_path.replace(\"processed_data\", \"results\")\n",
    "    if intervention is not None:\n",
    "        result_save_path = result_save_path.replace(\".json\", f\"_{intervention}.json\")\n",
    "    os.makedirs(os.path.dirname(result_save_path), exist_ok=True)\n",
    "    with open(result_save_path, \"w\") as f:\n",
    "        json.dump(result, f)\n",
    "    return result"
   ]
  },
  {
   "cell_type": "code",
   "execution_count": 30,
   "metadata": {},
   "outputs": [
    {
     "name": "stderr",
     "output_type": "stream",
     "text": [
      "100%|██████████| 240/240 [00:52<00:00,  4.54it/s]\n",
      "100%|██████████| 240/240 [00:50<00:00,  4.72it/s]\n",
      "100%|██████████| 240/240 [00:40<00:00,  5.89it/s]\n",
      "100%|██████████| 240/240 [00:41<00:00,  5.81it/s]\n"
     ]
    }
   ],
   "source": [
    "model.reset_hooks()\n",
    "msj_jailbreak_nlls = get_msj_nlls(model, \"processed_data/test/msjs_jailbreak.json\")\n",
    "msj_recovery_nlls = get_msj_nlls(model, \"processed_data/test/msjs_recovery.json\")\n",
    "msj_mean_jailbreak_nlls = get_msj_nlls(model, \"processed_data/test/msjs_mean_jailbreak.json\")\n",
    "msj_mean_recovery_nlls = get_msj_nlls(model, \"processed_data/test/msjs_mean_recovery.json\")"
   ]
  },
  {
   "cell_type": "code",
   "execution_count": 99,
   "metadata": {},
   "outputs": [],
   "source": [
    "def plot_nlls(results, legend, figsize=(7, 4), title = None):\n",
    "    fig, ax = plt.subplots(figsize=figsize)\n",
    "    for r, l in zip(results, legend):\n",
    "        data = sorted([\n",
    "            (k, sum([r[-1]['nll'] for r in v])/len(v)) for k, v in r.items()\n",
    "        ])\n",
    "        shots, nlls = zip(*data)\n",
    "        shots = np.array(shots)\n",
    "        ax.plot(shots, nlls, 'o-', markersize=5, label=l)\n",
    "    ax.set_xscale('log', base=2)\n",
    "    ax.set_yscale('log', base=10)\n",
    "    ax.set_xlabel('Number of shots')\n",
    "    ax.set_ylabel('NLL of final assistant response')    \n",
    "    ax.legend()\n",
    "    ax.legend(bbox_to_anchor=(1.02, 1), loc='upper left')\n",
    "    if title:\n",
    "        ax.set_title(title)\n",
    "    plt.tight_layout()\n",
    "    plt.show()"
   ]
  },
  {
   "cell_type": "code",
   "execution_count": 101,
   "metadata": {},
   "outputs": [
    {
     "data": {
      "image/png": "[encoded data removed]",
      "text/plain": [
       "<Figure size 700x400 with 1 Axes>"
      ]
     },
     "metadata": {},
     "output_type": "display_data"
    }
   ],
   "source": [
    "plot_nlls([msj_jailbreak_nlls, msj_recovery_nlls, msj_mean_jailbreak_nlls, msj_mean_recovery_nlls], ['harmful msj + harmful resp', 'harmful msj + harmless resp', 'mean msj + mean resp', 'mean msj + harmless resp'], title=\"no intervention\")"
   ]
  },
  {
   "cell_type": "code",
   "execution_count": null,
   "metadata": {},
   "outputs": [],
   "source": [
    "interventions = [\n",
    "    InterventionSettings(\n",
    "        intervention=Intervention.RESID_ADD_PROJECT,\n",
    "        user_vector=user_token_embedding*0.1,\n",
    "        assistant_vector=assistant_token_embedding*0.1,\n",
    "    ),\n",
    "    InterventionSettings(\n",
    "        intervention=Intervention.EMBEDDING_COLOR,\n",
    "        user_vector=user_token_embedding*0.6,\n",
    "        assistant_vector=assistant_token_embedding*0.6,\n",
    "    ),\n",
    "    InterventionSettings(\n",
    "        intervention=Intervention.STEER_AT_LAYER,\n",
    "        user_vector=user_token_embedding*0.5,\n",
    "        assistant_vector=assistant_token_embedding*0.5,\n",
    "        layer=10\n",
    "    ),\n",
    "    InterventionSettings(\n",
    "        intervention=Intervention.STEER_AT_LAYER,\n",
    "        user_vector=user_token_embedding*0.5,\n",
    "        assistant_vector=assistant_token_embedding*0.5,\n",
    "        layer=5\n",
    "    ),\n",
    "    InterventionSettings(\n",
    "        intervention=Intervention.STEER_AT_LAYER,\n",
    "        user_vector=user_token_embedding*0.5,\n",
    "        assistant_vector=assistant_token_embedding*0.5,\n",
    "        layer=20\n",
    "    )\n",
    "]"
   ]
  },
  {
   "cell_type": "code",
   "execution_count": null,
   "metadata": {},
   "outputs": [],
   "source": [
    "for i in interventions:\n",
    "    model.set_intervention(i)\n",
    "    msj_jailbreak_nlls_colored = get_msj_nlls(model, \"processed_data/test/msjs_jailbreak.json\", intervention=1)\n",
    "    msj_recovery_nlls_colored = get_msj_nlls(model, \"processed_data/test/msjs_recovery.json\", intervention=1)\n",
    "    msj_mean_jailbreak_nlls_colored = get_msj_nlls(model, \"processed_data/test/msjs_mean_jailbreak.json\", intervention=1)\n",
    "    msj_mean_recovery_nlls_colored = get_msj_nlls(model, \"processed_data/test/msjs_mean_recovery.json\", intervention=1)\n",
    "    plot_nlls([msj_jailbreak_nlls_colored, msj_jailbreak_nlls], ['(color) harmful msj + harmful resp', 'harmful msj + harmful resp'], title=str(i))\n",
    "    plot_nlls([msj_recovery_nlls_colored, msj_recovery_nlls], ['(color) harmful msj + harmless resp', 'harmful msj + harmless resp'], title=str(i))\n",
    "    plot_nlls([msj_mean_jailbreak_nlls_colored, msj_mean_jailbreak_nlls], ['(color) mean msj + harmful resp', 'mean msj + harmful resp'], title=str(i))\n",
    "    plot_nlls([msj_mean_recovery_nlls_colored, msj_mean_recovery_nlls], ['(color) mean msj + harmless resp', '(mean msj + harmless resp'], title=str(i))"
   ]
  }
 ],
 "metadata": {
  "kernelspec": {
   "display_name": "venv",
   "language": "python",
   "name": "python3"
  },
  "language_info": {
   "codemirror_mode": {
    "name": "ipython",
    "version": 3
   },
   "file_extension": ".py",
   "mimetype": "text/x-python",
   "name": "python",
   "nbconvert_exporter": "python",
   "pygments_lexer": "ipython3",
   "version": "3.10.13"
  }
 },
 "nbformat": 4,
 "nbformat_minor": 2
}
